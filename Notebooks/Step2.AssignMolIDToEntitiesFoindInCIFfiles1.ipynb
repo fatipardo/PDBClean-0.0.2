{
 "cells": [
  {
   "cell_type": "markdown",
   "id": "2d065185",
   "metadata": {},
   "source": [
    "# Assign MolID to the entities found in the CIF files (1) "
   ]
  },
  {
   "cell_type": "markdown",
   "id": "729c6719",
   "metadata": {},
   "source": [
    "## What is the goal of this notebook?\n",
    "\n",
    "We will run `PDBClean_MolID_CIF.py` to re-assign the MolID to the entities found in our new ensemble of CIF files. \n",
    "The script goes over all the CIF files and collects all entities. The user can then decide what MolID to assign them. \n",
    "\n",
    "There are also some other benefits from running this script: \n",
    "\n",
    "- You can assign the same MolID to different entities. In that case these entities will be concatenated. User need to accept each concatenation manually. \n",
    "- Inspecting the list of entities will allow users to identify structures that need to be removed from the ensemble.\n",
    "- Make sure that the MolIDs of the structures in the ensemble are consistent (the same chain is named always the same, even in different structures).\n",
    "\n",
    "This notebook will go over the cases described above. \n",
    "\n",
    ">**NOTE:** For this tutorial, we will not use the whole ensemble we downloaded. We will use a subsample of only 7 structures. The next cells will create the new directory. Notice that we are choosing these 7 sctructures from the ones we downloaded. We chose these ones to highlight some possible issues you may run into when running this script."
   ]
  },
  {
   "cell_type": "code",
   "execution_count": 1,
   "id": "74c0c396",
   "metadata": {},
   "outputs": [],
   "source": [
    "from PDBClean import pdbclean_io"
   ]
  },
  {
   "cell_type": "code",
   "execution_count": 2,
   "id": "0b4b831c",
   "metadata": {},
   "outputs": [],
   "source": [
    "PROJDIR=\"./TIM\""
   ]
  },
  {
   "cell_type": "code",
   "execution_count": 3,
   "id": "ee39d3ed",
   "metadata": {},
   "outputs": [],
   "source": [
    "pdbclean_io.check_project(projdir=PROJDIR, action='create', level='simple_bank_sub')"
   ]
  },
  {
   "cell_type": "markdown",
   "id": "3ce20e15",
   "metadata": {},
   "source": [
    "> Let's copy some structures from our simple_bank into the newly created 'simple_bank_sub' directory"
   ]
  },
  {
   "cell_type": "code",
   "execution_count": 4,
   "id": "ee9230a2",
   "metadata": {},
   "outputs": [],
   "source": [
    "!cp $PROJDIR/simple_bank/1klg+00.cif $PROJDIR/simple_bank_sub/\n",
    "!cp $PROJDIR/simple_bank/2y62+00.cif $PROJDIR/simple_bank_sub/\n",
    "!cp $PROJDIR/simple_bank/1ag1+00.cif $PROJDIR/simple_bank/1aw1+01.cif $PROJDIR/simple_bank_sub/\n",
    "!cp $PROJDIR/simple_bank/1aw1+02.cif $PROJDIR/simple_bank/1aw1+03.cif $PROJDIR/simple_bank_sub/\n",
    "!cp $PROJDIR/simple_bank/1aw1+04.cif $PROJDIR/simple_bank_sub/"
   ]
  },
  {
   "cell_type": "code",
   "execution_count": 5,
   "id": "ecf54395",
   "metadata": {},
   "outputs": [],
   "source": [
    "pdbclean_io.check_project(projdir=PROJDIR, action='create', level='standard_MolID_bank')"
   ]
  },
  {
   "cell_type": "markdown",
   "id": "2e6c151d",
   "metadata": {},
   "source": [
    "## Running PDBClean_MolID_CIF.py \n",
    "\n",
    "Notice that the way to run this script in the terminal is as following:\n",
    "\n",
    "> PDBClean_MolID_CIF.py `{Input Directory}` `{Output Directory}`\n",
    "\n",
    "The input directory contains the structures that we generated in Step 1. The output directory is where the new structures will be stored. \n",
    "\n",
    "Running this script will print a menu to screen. In the next cell we run the script and give 2 as input, so that we can select option `2) Show only unassigned conversions`. Then we `QUIT` the program. \n",
    "\n",
    "**Note:** We recommend running the script directly on the terminal. We are running it from the notebook just for demonstration purpose."
   ]
  },
  {
   "cell_type": "code",
   "execution_count": 6,
   "id": "f7b40709",
   "metadata": {
    "scrolled": false
   },
   "outputs": [
    {
     "name": "stdout",
     "output_type": "stream",
     "text": [
      "Reading: ./TIM/simple_bank_sub/2y62+00.cif  (1 of 7)\n",
      "Reading: ./TIM/simple_bank_sub/1ag1+00.cif  (2 of 7)\n",
      "Reading: ./TIM/simple_bank_sub/1klg+00.cif  (3 of 7)\n",
      "Reading: ./TIM/simple_bank_sub/1aw1+04.cif  (4 of 7)\n",
      "Reading: ./TIM/simple_bank_sub/1aw1+02.cif  (5 of 7)\n",
      "Reading: ./TIM/simple_bank_sub/1aw1+03.cif  (6 of 7)\n",
      "Reading: ./TIM/simple_bank_sub/1aw1+01.cif  (7 of 7)\n",
      "PDBClean MolID Conversion Build Menu\n",
      "             Select one of the following options to proceed:\n",
      "             1) Show full conversion\n",
      "             2) Show only unassigned conversions\n",
      "             3) Enter input file\n",
      "             4) Search MolID to add chain ID conversion\n",
      "             5) Go entry by entry to add chain ID conversion\n",
      "             6) Remove a chain ID conversion\n",
      "          \n",
      "Option Number: 1:TRIOSEPHOSPHATE ISOMERASE SYNONYM TRIOSE-PHOSPHATE ISOMERASE, TIM:\n",
      "1:SN-GLYCEROL-3-PHOSPHATE:\n",
      "1:SN-GLYCEROL-1-PHOSPHATE:\n",
      "1:GLYCEROL:\n",
      "4:WATER:\n",
      "2:TRIOSEPHOSPHATE ISOMERASE:\n",
      "1:PHOSPHATE ION:\n",
      "1:HLA CLASS II HISTOCOMPATIBILITY ANTIGEN, DR ALPHA CHAIN:\n",
      "1:HLA CLASS II HISTOCOMPATIBILITY ANTIGEN, DR-1 BETA CHAIN:\n",
      "1:TRIOSEPHOSPHATE ISOMERASE PEPTIDE:\n",
      "1:ENTEROTOXIN TYPE C-3:\n",
      "2:2-PHOSPHOGLYCOLIC ACID:\n",
      "PDBClean MolID Conversion Build Menu\n",
      "             Select one of the following options to proceed:\n",
      "             1) Show full conversion\n",
      "             2) Show only unassigned conversions\n",
      "             3) Enter input file\n",
      "             4) Search MolID to add chain ID conversion\n",
      "             5) Go entry by entry to add chain ID conversion\n",
      "             6) Remove a chain ID conversion\n",
      "          \n",
      "Option Number: "
     ]
    }
   ],
   "source": [
    "! echo '2\\nQUIT' | PDBClean_MolID_CIF.py $PROJDIR/simple_bank_sub $PROJDIR/standard_MolID_bank\n"
   ]
  },
  {
   "cell_type": "markdown",
   "id": "ad8cc03d",
   "metadata": {},
   "source": [
    "## What does the output mean?\n",
    "\n",
    "`1:TRIOSEPHOSPHATE ISOMERASE SYNONYM TRIOSE-PHOSPHATE ISOMERASE, TIM:\n",
    "1:SN-GLYCEROL-3-PHOSPHATE:\n",
    "1:SN-GLYCEROL-1-PHOSPHATE:\n",
    "1:GLYCEROL:\n",
    "4:WATER:\n",
    "2:TRIOSEPHOSPHATE ISOMERASE:\n",
    "1:PHOSPHATE ION:\n",
    "1:HLA CLASS II HISTOCOMPATIBILITY ANTIGEN, DR ALPHA CHAIN:\n",
    "1:HLA CLASS II HISTOCOMPATIBILITY ANTIGEN, DR-1 BETA CHAIN:\n",
    "1:TRIOSEPHOSPHATE ISOMERASE PEPTIDE:\n",
    "1:ENTEROTOXIN TYPE C-3:\n",
    "2:2-PHOSPHOGLYCOLIC ACID`\n",
    "\n",
    "\n",
    "The output printed to screen, and reproduced right above in this cell, tells us how many MolIDs (think of them as chains) are part of each entity. For example, the first line tells us that in one of the file, there is one entity `TRIOSEPHOSPHATE ISOMERASE SYNONYM TRIOSE-PHOSPHATE ISOMERASE, TIM` that contains one MolID. We also see that in the case of `WATER`, there are 4 MolIDs that we need to assign. \n",
    "\n"
   ]
  },
  {
   "cell_type": "markdown",
   "id": "140a987e",
   "metadata": {},
   "source": [
    "## Inspect the entities in your ensemble. A way to detect outliers:\n",
    "\n",
    "Another advantage of reading this list, is that we can take a look at all the entities that are present in our ensemble. In our tutorial example, we used the keyword 'triosephosphate isomerase'. If you read this list, you may find some suspicious entitities, such as `HLA CLASS II HISTOCOMPATIBILITY ANTIGEN, DR ALPHA CHAIN`. A closer inspection to the list, we can see also `TRIOSEPHOSPHATE ISOMERASE PEPTIDE`, which suggests that it only contains a fragment of the protein. \n",
    "\n",
    "Since these are suspicious entries, we can further inspect the CIF files that contain these entities. First, we need to figure out which are the CIF files. The next cell shows a way to do it:"
   ]
  },
  {
   "cell_type": "code",
   "execution_count": 7,
   "id": "6b576fa4",
   "metadata": {},
   "outputs": [
    {
     "name": "stdout",
     "output_type": "stream",
     "text": [
      "./TIM/simple_bank_sub/1klg+00.cif:1 'HLA CLASS II HISTOCOMPATIBILITY ANTIGEN, DR ALPHA CHAIN'\n",
      "./TIM/simple_bank_sub/1klg+00.cif:2 'HLA CLASS II HISTOCOMPATIBILITY ANTIGEN, DR-1 BETA CHAIN'\n",
      "./TIM/simple_bank_sub/1klg+00.cif:3 'TRIOSEPHOSPHATE ISOMERASE PEPTIDE'\n"
     ]
    }
   ],
   "source": [
    "! grep \"HLA CLASS II HISTOCOMPATIBILITY ANTIGEN\" $PROJDIR/simple_bank_sub/*cif \n",
    "! grep \"TRIOSEPHOSPHATE ISOMERASE PEPTIDE\" $PROJDIR/simple_bank_sub/*cif "
   ]
  },
  {
   "cell_type": "markdown",
   "id": "4d1e8d83",
   "metadata": {},
   "source": [
    "These entities come from one single CIF file: 1klg+00.cif \n",
    "\n",
    "By reading the CIF file (run the cell below, removing the '#') , or using a molecular visualization tool, the user can see that this is an outlier. It was selected because there is a small fragment of the triosephosphate isomerase, but the main structure is of the HLA Class II Histocompatibility antigen. It is best to remove these structures from our ensemble. "
   ]
  },
  {
   "cell_type": "code",
   "execution_count": 8,
   "id": "3ceb29e8",
   "metadata": {},
   "outputs": [],
   "source": [
    "# ! cat $PROJDIR/simple_bank_sub/1klg+00.cif"
   ]
  },
  {
   "cell_type": "code",
   "execution_count": 9,
   "id": "f0e21fee",
   "metadata": {},
   "outputs": [],
   "source": [
    "# Remove problematic CIF file\n",
    "\n",
    "! rm $PROJDIR/simple_bank_sub/1klg+00.cif \n"
   ]
  },
  {
   "cell_type": "markdown",
   "id": "8eb4a8da",
   "metadata": {},
   "source": [
    "## How to assign new MolID? \n",
    "\n",
    "Let's rerun `PDBClean_MolID_CIF.py` with our subsampled ensemble, now with only 6 structures. "
   ]
  },
  {
   "cell_type": "code",
   "execution_count": 10,
   "id": "e923fda1",
   "metadata": {},
   "outputs": [
    {
     "name": "stdout",
     "output_type": "stream",
     "text": [
      "Reading: ./TIM/simple_bank_sub/2y62+00.cif  (1 of 6)\n",
      "Reading: ./TIM/simple_bank_sub/1ag1+00.cif  (2 of 6)\n",
      "Reading: ./TIM/simple_bank_sub/1aw1+04.cif  (3 of 6)\n",
      "Reading: ./TIM/simple_bank_sub/1aw1+02.cif  (4 of 6)\n",
      "Reading: ./TIM/simple_bank_sub/1aw1+03.cif  (5 of 6)\n",
      "Reading: ./TIM/simple_bank_sub/1aw1+01.cif  (6 of 6)\n",
      "PDBClean MolID Conversion Build Menu\n",
      "             Select one of the following options to proceed:\n",
      "             1) Show full conversion\n",
      "             2) Show only unassigned conversions\n",
      "             3) Enter input file\n",
      "             4) Search MolID to add chain ID conversion\n",
      "             5) Go entry by entry to add chain ID conversion\n",
      "             6) Remove a chain ID conversion\n",
      "          \n",
      "Option Number: 1:TRIOSEPHOSPHATE ISOMERASE SYNONYM TRIOSE-PHOSPHATE ISOMERASE, TIM:\n",
      "1:SN-GLYCEROL-3-PHOSPHATE:\n",
      "1:SN-GLYCEROL-1-PHOSPHATE:\n",
      "1:GLYCEROL:\n",
      "2:WATER:\n",
      "2:TRIOSEPHOSPHATE ISOMERASE:\n",
      "1:PHOSPHATE ION:\n",
      "2:2-PHOSPHOGLYCOLIC ACID:\n",
      "PDBClean MolID Conversion Build Menu\n",
      "             Select one of the following options to proceed:\n",
      "             1) Show full conversion\n",
      "             2) Show only unassigned conversions\n",
      "             3) Enter input file\n",
      "             4) Search MolID to add chain ID conversion\n",
      "             5) Go entry by entry to add chain ID conversion\n",
      "             6) Remove a chain ID conversion\n",
      "          \n",
      "Option Number: "
     ]
    }
   ],
   "source": [
    "! echo '2\\nQUIT' | PDBClean_MolID_CIF.py $PROJDIR/simple_bank_sub $PROJDIR/standard_MolID_bank"
   ]
  },
  {
   "cell_type": "markdown",
   "id": "9191e8cc",
   "metadata": {},
   "source": [
    "### Renaming MolID, how to choose a name? \n",
    "\n",
    "This is a personal decision. You can decide how name each entity. For example, the easiest way is to assign a different MolID to each entity, as shown in the table below:\n",
    "\n",
    "| New MolID | ENTITIES |\n",
    "|---|:---|\n",
    "| A | 1:TRIOSEPHOSPHATE ISOMERASE SYNONYM TRIOSE-PHOSPHATE ISOMERASE, TIM: |\n",
    "| B | 1:SN-GLYCEROL-3-PHOSPHATE: |\n",
    "| C | 1:SN-GLYCEROL-1-PHOSPHATE: |\n",
    "| D | 1:GLYCEROL: |\n",
    "| E,F | 2:WATER: |\n",
    "| G,H | 2:TRIOSEPHOSPHATE ISOMERASE: |\n",
    "| I | 1:PHOSPHATE ION: |\n",
    "| J,K | 2:2-PHOSPHOGLYCOLIC ACID: | \n",
    "\n",
    "\n",
    "We need to input the new assignment manually when it is printed on screen. Notice that in the next cell, `echo` allows us to type the input in advance. \n",
    "\n",
    "`2) Show only unassigned conversions` -> `5) Go entry by entry to add chain ID conversion` -> `Letters we chose on the table in this cell` -> `7) Continue to next step of curation` -> `6) Finalize Curation`\n"
   ]
  },
  {
   "cell_type": "code",
   "execution_count": 11,
   "id": "fabe944a",
   "metadata": {},
   "outputs": [
    {
     "name": "stdout",
     "output_type": "stream",
     "text": [
      "Reading: ./TIM/simple_bank_sub/2y62+00.cif  (1 of 6)\n",
      "Reading: ./TIM/simple_bank_sub/1ag1+00.cif  (2 of 6)\n",
      "Reading: ./TIM/simple_bank_sub/1aw1+04.cif  (3 of 6)\n",
      "Reading: ./TIM/simple_bank_sub/1aw1+02.cif  (4 of 6)\n",
      "Reading: ./TIM/simple_bank_sub/1aw1+03.cif  (5 of 6)\n",
      "Reading: ./TIM/simple_bank_sub/1aw1+01.cif  (6 of 6)\n",
      "PDBClean MolID Conversion Build Menu\n",
      "             Select one of the following options to proceed:\n",
      "             1) Show full conversion\n",
      "             2) Show only unassigned conversions\n",
      "             3) Enter input file\n",
      "             4) Search MolID to add chain ID conversion\n",
      "             5) Go entry by entry to add chain ID conversion\n",
      "             6) Remove a chain ID conversion\n",
      "          \n",
      "Option Number: 1:TRIOSEPHOSPHATE ISOMERASE SYNONYM TRIOSE-PHOSPHATE ISOMERASE, TIM:\n",
      "1:SN-GLYCEROL-3-PHOSPHATE:\n",
      "1:SN-GLYCEROL-1-PHOSPHATE:\n",
      "1:GLYCEROL:\n",
      "2:WATER:\n",
      "2:TRIOSEPHOSPHATE ISOMERASE:\n",
      "1:PHOSPHATE ION:\n",
      "2:2-PHOSPHOGLYCOLIC ACID:\n",
      "PDBClean MolID Conversion Build Menu\n",
      "             Select one of the following options to proceed:\n",
      "             1) Show full conversion\n",
      "             2) Show only unassigned conversions\n",
      "             3) Enter input file\n",
      "             4) Search MolID to add chain ID conversion\n",
      "             5) Go entry by entry to add chain ID conversion\n",
      "             6) Remove a chain ID conversion\n",
      "          \n",
      "Option Number: Enter chain IDs for each of the following MolID.\n",
      "Comma separated, no spaces\n",
      "TRIOSEPHOSPHATE ISOMERASE SYNONYM TRIOSE-PHOSPHATE ISOMERASE, TIM:SN-GLYCEROL-3-PHOSPHATE:SN-GLYCEROL-1-PHOSPHATE:GLYCEROL:WATER:TRIOSEPHOSPHATE ISOMERASE:PHOSPHATE ION:2-PHOSPHOGLYCOLIC ACID:Congratulations! You have successfully constructed your\n",
      "                 conversion templates. You can proceed to the next section\n",
      "                 by selection option 7 or, continue to edit your conversion\n",
      "                 template through this menu\n",
      "              \n",
      "PDBClean MolID Conversion Build Menu\n",
      "             Select one of the following options to proceed:\n",
      "             1) Show full conversion\n",
      "             2) Show only unassigned conversions\n",
      "             3) Enter input file\n",
      "             4) Search MolID to add chain ID conversion\n",
      "             5) Go entry by entry to add chain ID conversion\n",
      "             6) Remove a chain ID conversion\n",
      "          \n",
      "    7) Continue to next step of curation\n",
      "Option Number:     6) Finalize Curation\n",
      "Option Number: Finalizing Curation ...\n"
     ]
    }
   ],
   "source": [
    "! echo '2\\n5\\nA\\nB\\nC\\nD\\nE,F\\nG,H\\nI\\nJ,K\\n7\\n6\\n' | PDBClean_MolID_CIF.py $PROJDIR/simple_bank_sub $PROJDIR/standard_MolID_bank"
   ]
  },
  {
   "cell_type": "code",
   "execution_count": null,
   "id": "46092d65",
   "metadata": {},
   "outputs": [],
   "source": []
  }
 ],
 "metadata": {
  "kernelspec": {
   "display_name": "PDBC0722",
   "language": "python",
   "name": "pdbc0722"
  },
  "language_info": {
   "codemirror_mode": {
    "name": "ipython",
    "version": 3
   },
   "file_extension": ".py",
   "mimetype": "text/x-python",
   "name": "python",
   "nbconvert_exporter": "python",
   "pygments_lexer": "ipython3",
   "version": "3.10.5"
  }
 },
 "nbformat": 4,
 "nbformat_minor": 5
}
