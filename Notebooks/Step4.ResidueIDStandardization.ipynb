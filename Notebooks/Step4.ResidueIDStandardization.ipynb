{
 "cells": [
  {
   "cell_type": "markdown",
   "id": "8fd50978",
   "metadata": {},
   "source": [
    "# Residue Standardization"
   ]
  },
  {
   "cell_type": "markdown",
   "id": "2b65c67e",
   "metadata": {},
   "source": [
    "## What is the goal of this notebook? \n",
    "\n",
    "This is the final step to create our curated ensemble. Now that the chains have been standardized, we are going to make sure that the residues numbers are consistent among all structures. We do this by performing a multiple sequence alignment (MSA) for all the sequences in our ensemble, and then generating a new numbering system based on the MSA. \n",
    "\n",
    ">**NOTE 1:** For this tutorial, we will not use the whole ensemble we downloaded. We will use a subsample of only 6 structures. The next cells will create the new directory. Notice that we are choosing these 6 sctructures from the ones we downloaded in Step 0. We chose these ones to highlight some possible issues you may run into when running this script. \n",
    "\n",
    ">**NOTE 2:** This is the continuation of step 3"
   ]
  },
  {
   "cell_type": "code",
   "execution_count": 1,
   "id": "7010ea26",
   "metadata": {},
   "outputs": [],
   "source": [
    "from PDBClean import pdbclean_io"
   ]
  },
  {
   "cell_type": "code",
   "execution_count": 2,
   "id": "0dfe2447",
   "metadata": {},
   "outputs": [],
   "source": [
    "PROJDIR=\"./TIM\""
   ]
  },
  {
   "cell_type": "code",
   "execution_count": 3,
   "id": "074761ab",
   "metadata": {},
   "outputs": [],
   "source": [
    "pdbclean_io.check_project(projdir=PROJDIR, action='create', level='standard_ResidueID_bank')"
   ]
  },
  {
   "cell_type": "markdown",
   "id": "d9dcc948",
   "metadata": {},
   "source": [
    "### How to run `PDBClean_ResidueStandardization_CIF.py`\n",
    "\n",
    "In the terminal, type:\n",
    "\n",
    "> PDBClean_ResidueStandardization_CIF.py `{Input Directory}` `{Output Directory}`\n",
    "\n",
    "Select the following choices when prompted in the on screen menus:  \n",
    "\n",
    "`1) Perform multiple alignments to identify residues` -> \n",
    "`1) Show list of chains to be standardized` -> \n",
    "`4) Perform multiple alignments`\n",
    "\n",
    "Wait for MUSCLE to finish running\n",
    "\n",
    "`3) Perform residue number standardization` \\\n",
    "`Type QUIT`\n",
    "\n",
    "For this tutorial, you can also run the following cell, which already includes the inputs for these options. "
   ]
  },
  {
   "cell_type": "code",
   "execution_count": 10,
   "id": "b884dada",
   "metadata": {
    "scrolled": false
   },
   "outputs": [
    {
     "name": "stdout",
     "output_type": "stream",
     "text": [
      "Reading: ./TIM/standard_ChainID_bank/2y62+00.cif  (1 of 6)\n",
      "Reading: ./TIM/standard_ChainID_bank/1ag1+00.cif  (2 of 6)\n",
      "Reading: ./TIM/standard_ChainID_bank/1aw1+04.cif  (3 of 6)\n",
      "Reading: ./TIM/standard_ChainID_bank/1aw1+02.cif  (4 of 6)\n",
      "Reading: ./TIM/standard_ChainID_bank/1aw1+03.cif  (5 of 6)\n",
      "Reading: ./TIM/standard_ChainID_bank/1aw1+01.cif  (6 of 6)\n",
      "PDBClean Residue Number Standardization Menu\n",
      "    Select one of the following options to proceed:\n",
      "    1) Perform multiple alignments to identify residues\n",
      "Option Number:     Perform multiple alignments to identify residues\n",
      "    1) Show list of chains to be standardized\n",
      "    2) Remove chain IDs from list of chains to be standardized\n",
      "    3) Input file of chain IDs to remove from list of chains to be standardized\n",
      "    4) Perform multiple alignments\n",
      "Option Number: A\n",
      "B\n",
      "C\n",
      "D\n",
      "    Perform multiple alignments to identify residues\n",
      "    1) Show list of chains to be standardized\n",
      "    2) Remove chain IDs from list of chains to be standardized\n",
      "    3) Input file of chain IDs to remove from list of chains to be standardized\n",
      "    4) Perform multiple alignments\n",
      "Option Number: \n",
      "MUSCLE v3.8.31 by Robert C. Edgar\n",
      "\n",
      "http://www.drive5.com/muscle\n",
      "This software is donated to the public domain.\n",
      "Please cite: Edgar, R.C. Nucleic Acids Res 32(5), 1792-97.\n",
      "\n",
      "A 5 seqs, max length 255, avg  length 253\n",
      "00:00:00      1 MB(0%)  Iter   1  100.00%  K-mer dist pass 1\n",
      "00:00:00      1 MB(0%)  Iter   1  100.00%  K-mer dist pass 2\n",
      "00:00:00      2 MB(0%)  Iter   1  100.00%  Align node       \n",
      "00:00:00      2 MB(0%)  Iter   1  100.00%  Root alignment\n",
      "00:00:00      2 MB(0%)  Iter   2  100.00%  Root alignment\n",
      "00:00:00      2 MB(0%)  Iter   3  100.00%  Refine biparts\n",
      "00:00:00      3 MB(0%)  Iter   4  100.00%  Refine biparts\n",
      "00:00:00      3 MB(0%)  Iter   5  100.00%  Refine biparts\n",
      "00:00:00      3 MB(0%)  Iter   6  100.00%  Refine biparts\n",
      "00:00:00      3 MB(0%)  Iter   7  100.00%  Refine biparts\n",
      "00:00:00      3 MB(0%)  Iter   8  100.00%  Refine biparts\n",
      "\n",
      "MUSCLE v3.8.31 by Robert C. Edgar\n",
      "\n",
      "http://www.drive5.com/muscle\n",
      "This software is donated to the public domain.\n",
      "Please cite: Edgar, R.C. Nucleic Acids Res 32(5), 1792-97.\n",
      "\n",
      "B 6 seqs, max length 254, avg  length 252\n",
      "00:00:00      1 MB(0%)  Iter   1  100.00%  K-mer dist pass 1\n",
      "00:00:00      1 MB(0%)  Iter   1  100.00%  K-mer dist pass 2\n",
      "00:00:00      3 MB(0%)  Iter   1  100.00%  Align node       \n",
      "00:00:00      3 MB(0%)  Iter   1  100.00%  Root alignment\n",
      "00:00:00      3 MB(0%)  Iter   2  100.00%  Root alignment\n",
      "00:00:00      3 MB(0%)  Iter   3  100.00%  Refine biparts\n",
      "00:00:00      3 MB(0%)  Iter   4  100.00%  Refine biparts\n",
      "00:00:00      3 MB(0%)  Iter   5  100.00%  Refine biparts\n",
      "00:00:00      3 MB(0%)  Iter   6  100.00%  Refine biparts\n",
      "00:00:00      3 MB(0%)  Iter   7  100.00%  Refine biparts\n",
      "00:00:00      3 MB(0%)  Iter   8  100.00%  Refine biparts\n",
      "\n",
      "MUSCLE v3.8.31 by Robert C. Edgar\n",
      "\n",
      "http://www.drive5.com/muscle\n",
      "This software is donated to the public domain.\n",
      "Please cite: Edgar, R.C. Nucleic Acids Res 32(5), 1792-97.\n",
      "\n",
      "C 6 seqs, max length 484, avg  length 158\n",
      "00:00:00      1 MB(0%)  Iter   1  100.00%  K-mer dist pass 1\n",
      "00:00:00      1 MB(0%)  Iter   1  100.00%  K-mer dist pass 2\n",
      "00:00:00      3 MB(0%)  Iter   1  100.00%  Align node       \n",
      "00:00:00      3 MB(0%)  Iter   1  100.00%  Root alignment\n",
      "00:00:00      3 MB(0%)  Iter   2  100.00%  Root alignment\n",
      "00:00:00      4 MB(0%)  Iter   3  100.00%  Refine biparts\n",
      "\n",
      "MUSCLE v3.8.31 by Robert C. Edgar\n",
      "\n",
      "http://www.drive5.com/muscle\n",
      "This software is donated to the public domain.\n",
      "Please cite: Edgar, R.C. Nucleic Acids Res 32(5), 1792-97.\n",
      "\n",
      "D 6 seqs, max length 4, avg  length 2\n",
      "00:00:00      1 MB(0%)  Iter   1     nan%  \n",
      "00:00:00      1 MB(0%)  Iter   1  100.00%  K-mer dist pass 2\n",
      "00:00:00      1 MB(0%)  Iter   1  100.00%  Align node       \n",
      "00:00:00      1 MB(0%)  Iter   1  100.00%  Root alignment\n",
      "00:00:00      1 MB(0%)  Iter   2  100.00%  Root alignment\n",
      "00:00:00      1 MB(0%)  Iter   3  100.00%  Refine biparts\n",
      "PDBClean Residue Number Standardization Menu\n",
      "    Select one of the following options to proceed:\n",
      "    1) Perform multiple alignments to identify residues\n",
      "    2) View conversion template\n",
      "    3) Perform residue number standardization\n",
      "    OR Type QUIT to exit\n",
      "Option Number: PDBClean Residue Number Standardization Menu\n",
      "    Select one of the following options to proceed:\n",
      "    1) Perform multiple alignments to identify residues\n",
      "    2) View conversion template\n",
      "    3) Perform residue number standardization\n",
      "    OR Type QUIT to exit\n",
      "Option Number: "
     ]
    }
   ],
   "source": [
    "! echo '1\\n1\\n4\\n3\\nQUIT\\n' | PDBClean_ResidueStandardization_CIF.py $PROJDIR/standard_ChainID_bank $PROJDIR/standard_ResidueID_bank"
   ]
  },
  {
   "cell_type": "markdown",
   "id": "1be9d935",
   "metadata": {},
   "source": [
    "### Congratulations! You have created your first curated ensemble!\n",
    "\n",
    "For this tutorial we used a subset of all the TIM structures. We recommend repeating steps 2-4 for the whole dataset. \n",
    "Or change the keyword on step 0, to try a different molecule. \n",
    "\n",
    "The next set of notebooks focus on advanced curation steps and analysis. "
   ]
  },
  {
   "cell_type": "code",
   "execution_count": null,
   "id": "70bac929",
   "metadata": {},
   "outputs": [],
   "source": []
  }
 ],
 "metadata": {
  "kernelspec": {
   "display_name": "PDBCleanV2",
   "language": "python",
   "name": "PDBCleanV2"
  },
  "language_info": {
   "codemirror_mode": {
    "name": "ipython",
    "version": 3
   },
   "file_extension": ".py",
   "mimetype": "text/x-python",
   "name": "python",
   "nbconvert_exporter": "python",
   "pygments_lexer": "ipython3",
   "version": "3.10.5"
  }
 },
 "nbformat": 4,
 "nbformat_minor": 5
}
