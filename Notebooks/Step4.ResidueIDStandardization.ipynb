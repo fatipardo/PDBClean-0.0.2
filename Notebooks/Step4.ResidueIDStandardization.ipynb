{
 "cells": [
  {
   "cell_type": "markdown",
   "id": "8fd50978",
   "metadata": {},
   "source": [
    "# Residue Standardization"
   ]
  },
  {
   "cell_type": "markdown",
   "id": "2b65c67e",
   "metadata": {},
   "source": [
    "## What is the goal of this notebook? \n",
    "\n",
    "This is the final step to create our curated ensemble. Now that the chains have been standardized, we are going to make sure that the residues numbers are consistent among all structures. This is done by performing a multiple sequence alignment (MSA) for all the sequences in our ensemble, and then generating a new numbering system based on the MSA. Thus, it is very important for users to inspect the MSA generated during this step. This notebook shows two examples of a TIM dataset and shows the difference between having a single organism dataset as opposed to a multiple organism dataset, and how this affects the MSA. There is not one sole correct way to do this step and the users need to decide the purpose of the analysis they intend to perform to get the results that work best for them. \n",
    "\n",
    "\n",
    ">**NOTE 1:** For this tutorial, we will not use the whole ensemble we downloaded. We will use a subsample of only 6 structures. The next cells will create the new directory. Notice that we are choosing these 6 sctructures from the ones we downloaded in Step 0. We chose these ones to highlight some possible issues you may run into when running this script. \n",
    "\n",
    ">**NOTE 2:** This is the continuation of step 3\n"
   ]
  },
  {
   "cell_type": "code",
   "execution_count": 1,
   "id": "7010ea26",
   "metadata": {},
   "outputs": [],
   "source": [
    "from PDBClean import pdbclean_io"
   ]
  },
  {
   "cell_type": "code",
   "execution_count": 2,
   "id": "0dfe2447",
   "metadata": {},
   "outputs": [],
   "source": [
    "PROJDIR=\"./TIM/\""
   ]
  },
  {
   "cell_type": "code",
   "execution_count": 3,
   "id": "074761ab",
   "metadata": {
    "scrolled": true
   },
   "outputs": [],
   "source": [
    "pdbclean_io.check_project(projdir=PROJDIR, action='create', level='standard_ResidueID_bank')"
   ]
  },
  {
   "cell_type": "markdown",
   "id": "d9dcc948",
   "metadata": {},
   "source": [
    "### How to run `PDBClean_ResidueStandardization_CIF.py`\n",
    "\n",
    "In the terminal, type:\n",
    "\n",
    "> PDBClean_ResidueStandardization_CIF.py `{Input Directory}` `{Output Directory}`\n",
    "\n",
    "Select the following choices when prompted in the on screen menus:  \n",
    "\n",
    "`1) Perform multiple alignments to identify residues` -> \n",
    "`1) Show list of chains to be standardized` -> \n",
    "`4) Perform multiple alignments`\n",
    "\n",
    "Wait for MUSCLE to finish running\n",
    "\n",
    "`3) Perform residue number standardization` \\\n",
    "`Type QUIT`\n",
    "\n",
    "For this tutorial, you can also run the following cell, which already includes the inputs for these options. "
   ]
  },
  {
   "cell_type": "code",
   "execution_count": 4,
   "id": "b884dada",
   "metadata": {
    "scrolled": false
   },
   "outputs": [
    {
     "name": "stdout",
     "output_type": "stream",
     "text": [
      "Reading: ./TIM//standard_ChainID_bank/2y62+00.cif  (1 of 6)\n",
      "Reading: ./TIM//standard_ChainID_bank/1ag1+00.cif  (2 of 6)\n",
      "Reading: ./TIM//standard_ChainID_bank/1aw1+04.cif  (3 of 6)\n",
      "Reading: ./TIM//standard_ChainID_bank/1aw1+02.cif  (4 of 6)\n",
      "Reading: ./TIM//standard_ChainID_bank/1aw1+03.cif  (5 of 6)\n",
      "Reading: ./TIM//standard_ChainID_bank/1aw1+01.cif  (6 of 6)\n",
      "PDBClean Residue Number Standardization Menu\n",
      "    Select one of the following options to proceed:\n",
      "    1) Perform multiple alignments to identify residues\n",
      "Option Number:     Perform multiple alignments to identify residues\n",
      "    1) Show list of chains to be standardized\n",
      "    2) Remove chain IDs from list of chains to be standardized\n",
      "    3) Input file of chain IDs to remove from list of chains to be standardized\n",
      "    4) Perform multiple alignments\n",
      "Option Number: A\n",
      "B\n",
      "C\n",
      "D\n",
      "    Perform multiple alignments to identify residues\n",
      "    1) Show list of chains to be standardized\n",
      "    2) Remove chain IDs from list of chains to be standardized\n",
      "    3) Input file of chain IDs to remove from list of chains to be standardized\n",
      "    4) Perform multiple alignments\n",
      "Option Number: \n",
      "muscle 5.1.osx64 []  8.6Gb RAM, 4 cores\n",
      "Built Feb 22 2022 02:38:35\n",
      "(C) Copyright 2004-2021 Robert C. Edgar.\n",
      "https://drive5.com\n",
      "\n",
      "Input: 5 seqs, avg length 254, max 255\n",
      "\n",
      "00:00 4.1Mb  CPU has 4 cores, running 4 threads\n",
      "00:00 18Mb    100.0% Calc posteriors\n",
      "00:00 18Mb    100.0% Consistency (1/2)\n",
      "00:00 18Mb    100.0% Consistency (2/2)\n",
      "00:00 18Mb    100.0% UPGMA5           \n",
      "00:00 19Mb    100.0% Refining\n",
      "waiting...\n",
      "\n",
      "muscle 5.1.osx64 []  8.6Gb RAM, 4 cores\n",
      "Built Feb 22 2022 02:38:35\n",
      "(C) Copyright 2004-2021 Robert C. Edgar.\n",
      "https://drive5.com\n",
      "\n",
      "Input: 6 seqs, avg length 252, max 254\n",
      "\n",
      "00:00 4.1Mb  CPU has 4 cores, running 4 threads\n",
      "00:00 17Mb    100.0% Calc posteriors\n",
      "00:01 18Mb    100.0% Consistency (1/2)\n",
      "00:01 18Mb    100.0% Consistency (2/2)\n",
      "00:01 18Mb    100.0% UPGMA5           \n",
      "00:01 18Mb    100.0% Refining\n",
      "waiting...\n",
      "\n",
      "muscle 5.1.osx64 []  8.6Gb RAM, 4 cores\n",
      "Built Feb 22 2022 02:38:35\n",
      "(C) Copyright 2004-2021 Robert C. Edgar.\n",
      "https://drive5.com\n",
      "\n",
      "Input: 6 seqs, avg length 158, max 484\n",
      "\n",
      "00:00 4.1Mb  CPU has 4 cores, running 4 threads\n",
      "00:00 10Mb    100.0% Calc posteriors\n",
      "00:00 11Mb    100.0% Consistency (1/2)\n",
      "00:00 11Mb    100.0% Consistency (2/2)\n",
      "00:00 11Mb    100.0% UPGMA5           \n",
      "00:00 11Mb    100.0% Refining\n",
      "waiting...\n",
      "\n",
      "muscle 5.1.osx64 []  8.6Gb RAM, 4 cores\n",
      "Built Feb 22 2022 02:38:35\n",
      "(C) Copyright 2004-2021 Robert C. Edgar.\n",
      "https://drive5.com\n",
      "\n",
      "Input: 6 seqs, avg length 2, max 4\n",
      "\n",
      "00:00 4.1Mb  CPU has 4 cores, running 4 threads\n",
      "00:00 4.3Mb   100.0% Calc posteriors\n",
      "00:00 4.4Mb   100.0% Consistency (1/2)\n",
      "00:00 4.4Mb   100.0% Consistency (2/2)\n",
      "00:00 4.4Mb   100.0% UPGMA5           \n",
      "00:00 4.5Mb   100.0% Refining\n",
      "waiting...\n",
      "PDBClean Residue Number Standardization Menu\n",
      "    Select one of the following options to proceed:\n",
      "    1) Perform multiple alignments to identify residues\n",
      "    2) View conversion template\n",
      "    3) Perform residue number standardization\n",
      "    OR Type QUIT to exit\n",
      "Option Number: PDBClean Residue Number Standardization Menu\n",
      "    Select one of the following options to proceed:\n",
      "    1) Perform multiple alignments to identify residues\n",
      "    2) View conversion template\n",
      "    3) Perform residue number standardization\n",
      "    OR Type QUIT to exit\n",
      "Option Number: "
     ]
    }
   ],
   "source": [
    "! echo '1\\n1\\n4\\n3\\nQUIT\\n' | PDBClean_ResidueStandardization_CIF.py $PROJDIR/standard_ChainID_bank $PROJDIR/standard_ResidueID_bank"
   ]
  },
  {
   "cell_type": "markdown",
   "id": "1be9d935",
   "metadata": {},
   "source": [
    "### Congratulations you have a curated dataset! But... \n",
    "\n",
    "Step 4 generates an ensemble where the residue numbers are consistent among all structures. The output of the function PDBClean_ResidueStandardization_CIF.py is not only the directory with the renumbered structures, but also the alignments used to make the renumbering (saved as fasta files). The alignments are saved in the directory where the code was run. For this example that will be the directory where you store your notebooks. Running the cell below will show you the fasta files generated. We recommend checking if the renumbering matches the users expectations.\n"
   ]
  },
  {
   "cell_type": "code",
   "execution_count": 5,
   "id": "d5c95ec0",
   "metadata": {},
   "outputs": [
    {
     "name": "stdout",
     "output_type": "stream",
     "text": [
      "A.fasta\r\n",
      "B.fasta\r\n",
      "C.fasta\r\n",
      "D.fasta\r\n"
     ]
    }
   ],
   "source": [
    "! ls | grep fasta"
   ]
  },
  {
   "cell_type": "markdown",
   "id": "caf065cf",
   "metadata": {},
   "source": [
    "These files can be visualized with software such as [Jalview](https://www.jalview.org/). Below you can see the A.fasta and B.fasta alignments which correspond to the protein chains in the TIM structures. You can refer to Step 2 for notation."
   ]
  },
  {
   "cell_type": "markdown",
   "id": "2f553711",
   "metadata": {},
   "source": [
    "### A.fasta"
   ]
  },
  {
   "cell_type": "markdown",
   "id": "5c54147e",
   "metadata": {},
   "source": [
    "![TIM A alignment](./images/TIMJalview0_2.png)"
   ]
  },
  {
   "cell_type": "markdown",
   "id": "23bf69a9",
   "metadata": {},
   "source": [
    "### B.fasta"
   ]
  },
  {
   "cell_type": "markdown",
   "id": "d3a73de1",
   "metadata": {},
   "source": [
    "![TIM B alignment](./images/JalviewTIMB_2.png)"
   ]
  },
  {
   "cell_type": "markdown",
   "id": "a818d02e",
   "metadata": {},
   "source": [
    "Visual inspection of the alignments shows that there are two groups of sequences with high similarity. Jalview offers tools that can help cluster similar sequences. The cells below show the output of the function \"Calculate Tree\", using neighbour joining, and the Blossom62 matrix, for both A and B alignments."
   ]
  },
  {
   "cell_type": "markdown",
   "id": "191d359e",
   "metadata": {},
   "source": [
    "### A.fasta Tree"
   ]
  },
  {
   "cell_type": "markdown",
   "id": "8e3b9a6b",
   "metadata": {},
   "source": [
    "<div>\n",
    "<img src=\"./images/JalviewTIMTreeA.png\" width=\"400\"/>\n",
    "</div>"
   ]
  },
  {
   "cell_type": "markdown",
   "id": "956d89dc",
   "metadata": {},
   "source": [
    ">**NOTE:** Even though there are 6 structures in the dataset, there are only 5 sequences in the A.fasta tree. This is because one of the structures is a monomer and only contains chain B."
   ]
  },
  {
   "cell_type": "markdown",
   "id": "c3f3347c",
   "metadata": {},
   "source": [
    "### B.fasta Tree"
   ]
  },
  {
   "cell_type": "markdown",
   "id": "bf7e67d2",
   "metadata": {},
   "source": [
    "![TIM B Tree](./images/JalviewTIMTreeB.png)"
   ]
  },
  {
   "cell_type": "markdown",
   "id": "73bf25b6",
   "metadata": {},
   "source": [
    "These trees show that there are two major groups in the data set. In fact, 4 of the sequences come from the same PDB ID (1aw1). Users may want to seperate these two groups before reassigning residue numbers because 4 of them come from the same organism, Moritella marina, while the other two are the parasites Leishmania mexicana (2y62) and Trypanosoma brucei (1ag1). The cells below demonstrate how to separate the two groups of structures into different directories."
   ]
  },
  {
   "cell_type": "code",
   "execution_count": 6,
   "id": "474bba46",
   "metadata": {
    "scrolled": true
   },
   "outputs": [],
   "source": [
    "pdbclean_io.check_project(projdir=PROJDIR, action='create', level='subset4')"
   ]
  },
  {
   "cell_type": "code",
   "execution_count": 7,
   "id": "8b72ad97",
   "metadata": {},
   "outputs": [],
   "source": [
    "pdbclean_io.check_project(projdir=PROJDIR, action='create', level='subset2')"
   ]
  },
  {
   "cell_type": "code",
   "execution_count": 8,
   "id": "c36701cf",
   "metadata": {},
   "outputs": [],
   "source": [
    "pdbclean_io.check_project(projdir=PROJDIR+'subset4/', action='create', level='standard_ChainID_bank_subset')"
   ]
  },
  {
   "cell_type": "code",
   "execution_count": 9,
   "id": "9060131c",
   "metadata": {},
   "outputs": [],
   "source": [
    "pdbclean_io.check_project(projdir=PROJDIR+'subset4/', action='create', level='standard_ResidueID_bank_subset')"
   ]
  },
  {
   "cell_type": "code",
   "execution_count": 10,
   "id": "7320d1d7",
   "metadata": {},
   "outputs": [],
   "source": [
    "pdbclean_io.check_project(projdir=PROJDIR+'subset2/', action='create', level='standard_ChainID_bank_subset')"
   ]
  },
  {
   "cell_type": "code",
   "execution_count": 11,
   "id": "9ad01771",
   "metadata": {},
   "outputs": [],
   "source": [
    "pdbclean_io.check_project(projdir=PROJDIR+'subset2/', action='create', level='standard_ResidueID_bank_subset')"
   ]
  },
  {
   "cell_type": "code",
   "execution_count": 12,
   "id": "6f7ce03a",
   "metadata": {},
   "outputs": [],
   "source": [
    "! cp $PROJDIR/standard_ChainID_bank/1ag1+00.cif $PROJDIR/subset2/standard_ChainID_bank_subset"
   ]
  },
  {
   "cell_type": "code",
   "execution_count": 13,
   "id": "f36838f1",
   "metadata": {},
   "outputs": [],
   "source": [
    "! cp $PROJDIR/standard_ChainID_bank/2y62+00.cif $PROJDIR/subset2/standard_ChainID_bank_subset"
   ]
  },
  {
   "cell_type": "code",
   "execution_count": 14,
   "id": "181c4f76",
   "metadata": {},
   "outputs": [],
   "source": [
    "! cp $PROJDIR/standard_ChainID_bank/1aw1+*.cif $PROJDIR/subset4/standard_ChainID_bank_subset"
   ]
  },
  {
   "cell_type": "code",
   "execution_count": 15,
   "id": "ec53d515",
   "metadata": {},
   "outputs": [
    {
     "name": "stdout",
     "output_type": "stream",
     "text": [
      "1aw1+01.cif 1aw1+02.cif 1aw1+03.cif 1aw1+04.cif info.txt\r\n"
     ]
    }
   ],
   "source": [
    "! ls $PROJDIR/subset4/standard_ChainID_bank_subset"
   ]
  },
  {
   "cell_type": "code",
   "execution_count": 16,
   "id": "fb18cab0",
   "metadata": {},
   "outputs": [],
   "source": [
    "! mv *.fasta *.fa $PROJDIR"
   ]
  },
  {
   "cell_type": "markdown",
   "id": "56a47120",
   "metadata": {},
   "source": [
    ">Running the cells below will perform Step 4 separately for the two groups we created. Notice that we intentionally move the output files into the newly created directories to avoid them getting overwritten, as we have to run this step multiple times."
   ]
  },
  {
   "cell_type": "code",
   "execution_count": 17,
   "id": "0e1306e7",
   "metadata": {},
   "outputs": [
    {
     "name": "stdout",
     "output_type": "stream",
     "text": [
      "Reading: ./TIM//subset4/standard_ChainID_bank_subset/1aw1+04.cif  (1 of 4)\n",
      "Reading: ./TIM//subset4/standard_ChainID_bank_subset/1aw1+02.cif  (2 of 4)\n",
      "Reading: ./TIM//subset4/standard_ChainID_bank_subset/1aw1+03.cif  (3 of 4)\n",
      "Reading: ./TIM//subset4/standard_ChainID_bank_subset/1aw1+01.cif  (4 of 4)\n",
      "PDBClean Residue Number Standardization Menu\n",
      "    Select one of the following options to proceed:\n",
      "    1) Perform multiple alignments to identify residues\n",
      "Option Number:     Perform multiple alignments to identify residues\n",
      "    1) Show list of chains to be standardized\n",
      "    2) Remove chain IDs from list of chains to be standardized\n",
      "    3) Input file of chain IDs to remove from list of chains to be standardized\n",
      "    4) Perform multiple alignments\n",
      "Option Number: A\n",
      "B\n",
      "C\n",
      "D\n",
      "    Perform multiple alignments to identify residues\n",
      "    1) Show list of chains to be standardized\n",
      "    2) Remove chain IDs from list of chains to be standardized\n",
      "    3) Input file of chain IDs to remove from list of chains to be standardized\n",
      "    4) Perform multiple alignments\n",
      "Option Number: \n",
      "muscle 5.1.osx64 []  8.6Gb RAM, 4 cores\n",
      "Built Feb 22 2022 02:38:35\n",
      "(C) Copyright 2004-2021 Robert C. Edgar.\n",
      "https://drive5.com\n",
      "\n",
      "Input: 4 seqs, avg length 255, max 255\n",
      "\n",
      "00:00 4.1Mb  CPU has 4 cores, running 4 threads\n",
      "00:00 16Mb    100.0% Calc posteriors\n",
      "00:00 16Mb    100.0% Consistency (1/2)\n",
      "00:00 16Mb    100.0% Consistency (2/2)\n",
      "00:00 16Mb    100.0% UPGMA5           \n",
      "00:00 16Mb    100.0% Refining\n",
      "waiting...\n",
      "\n",
      "muscle 5.1.osx64 []  8.6Gb RAM, 4 cores\n",
      "Built Feb 22 2022 02:38:35\n",
      "(C) Copyright 2004-2021 Robert C. Edgar.\n",
      "https://drive5.com\n",
      "\n",
      "Input: 4 seqs, avg length 254, max 254\n",
      "\n",
      "00:00 4.1Mb  CPU has 4 cores, running 4 threads\n",
      "00:00 15Mb    100.0% Calc posteriors\n",
      "00:00 15Mb    100.0% Consistency (1/2)\n",
      "00:00 15Mb    100.0% Consistency (2/2)\n",
      "00:00 15Mb    100.0% UPGMA5           \n",
      "00:00 16Mb    100.0% Refining\n",
      "waiting...\n",
      "\n",
      "muscle 5.1.osx64 []  8.6Gb RAM, 4 cores\n",
      "Built Feb 22 2022 02:38:35\n",
      "(C) Copyright 2004-2021 Robert C. Edgar.\n",
      "https://drive5.com\n",
      "\n",
      "Input: 4 seqs, avg length 77, max 78\n",
      "\n",
      "00:00 4.1Mb  CPU has 4 cores, running 4 threads\n",
      "00:00 4.9Mb   100.0% Calc posteriors\n",
      "00:00 5.0Mb   100.0% Consistency (1/2)\n",
      "00:00 5.0Mb   100.0% Consistency (2/2)\n",
      "00:00 5.1Mb   100.0% UPGMA5           % UPGMA5\n",
      "00:00 5.3Mb   100.0% Refining\n",
      "waiting...\n",
      "\n",
      "muscle 5.1.osx64 []  8.6Gb RAM, 4 cores\n",
      "Built Feb 22 2022 02:38:35\n",
      "(C) Copyright 2004-2021 Robert C. Edgar.\n",
      "https://drive5.com\n",
      "\n",
      "Input: 4 seqs, avg length 2, max 2\n",
      "\n",
      "00:00 4.1Mb  CPU has 4 cores, running 4 threads\n",
      "00:00 4.3Mb   100.0% Calc posteriors\n",
      "00:00 4.4Mb   100.0% Consistency (1/2)\n",
      "00:00 4.4Mb   100.0% Consistency (2/2)\n",
      "00:00 4.4Mb   100.0% UPGMA5           \n",
      "00:00 4.4Mb   100.0% Refining\n",
      "waiting...\n",
      "PDBClean Residue Number Standardization Menu\n",
      "    Select one of the following options to proceed:\n",
      "    1) Perform multiple alignments to identify residues\n",
      "    2) View conversion template\n",
      "    3) Perform residue number standardization\n",
      "    OR Type QUIT to exit\n",
      "Option Number: PDBClean Residue Number Standardization Menu\n",
      "    Select one of the following options to proceed:\n",
      "    1) Perform multiple alignments to identify residues\n",
      "    2) View conversion template\n",
      "    3) Perform residue number standardization\n",
      "    OR Type QUIT to exit\n",
      "Option Number: "
     ]
    }
   ],
   "source": [
    "! echo '1\\n1\\n4\\n3\\nQUIT\\n' | PDBClean_ResidueStandardization_CIF.py $PROJDIR/subset4/standard_ChainID_bank_subset $PROJDIR/subset4/standard_ResidueID_bank_subset"
   ]
  },
  {
   "cell_type": "code",
   "execution_count": 18,
   "id": "32ff8c8b",
   "metadata": {},
   "outputs": [],
   "source": [
    "! mv *.fasta *.fa $PROJDIR/subset4"
   ]
  },
  {
   "cell_type": "code",
   "execution_count": 19,
   "id": "5adc6c35",
   "metadata": {},
   "outputs": [
    {
     "name": "stdout",
     "output_type": "stream",
     "text": [
      "Reading: ./TIM//subset2/standard_ChainID_bank_subset/2y62+00.cif  (1 of 2)\n",
      "Reading: ./TIM//subset2/standard_ChainID_bank_subset/1ag1+00.cif  (2 of 2)\n",
      "PDBClean Residue Number Standardization Menu\n",
      "    Select one of the following options to proceed:\n",
      "    1) Perform multiple alignments to identify residues\n",
      "Option Number:     Perform multiple alignments to identify residues\n",
      "    1) Show list of chains to be standardized\n",
      "    2) Remove chain IDs from list of chains to be standardized\n",
      "    3) Input file of chain IDs to remove from list of chains to be standardized\n",
      "    4) Perform multiple alignments\n",
      "Option Number: A\n",
      "B\n",
      "C\n",
      "D\n",
      "    Perform multiple alignments to identify residues\n",
      "    1) Show list of chains to be standardized\n",
      "    2) Remove chain IDs from list of chains to be standardized\n",
      "    3) Input file of chain IDs to remove from list of chains to be standardized\n",
      "    4) Perform multiple alignments\n",
      "Option Number: \n",
      "muscle 5.1.osx64 []  8.6Gb RAM, 4 cores\n",
      "Built Feb 22 2022 02:38:35\n",
      "(C) Copyright 2004-2021 Robert C. Edgar.\n",
      "https://drive5.com\n",
      "\n",
      "Input: 1 seqs, avg length 249, max 249\n",
      "\n",
      "muscle(8445,0x108cc5600) malloc: *** error for object 0x7ff7bc02e550: pointer being freed was not allocated\n",
      "muscle(8445,0x108cc5600) malloc: *** set a breakpoint in malloc_error_break to debug\n",
      "waiting...\n",
      "\n",
      "muscle 5.1.osx64 []  8.6Gb RAM, 4 cores\n",
      "Built Feb 22 2022 02:38:35\n",
      "(C) Copyright 2004-2021 Robert C. Edgar.\n",
      "https://drive5.com\n",
      "\n",
      "Input: 2 seqs, avg length 249, max 249\n",
      "\n",
      "00:00 4.1Mb  CPU has 4 cores, running 4 threads\n",
      "00:00 4.3Mb   100.0% Calc posteriors\n",
      "00:00 7.0Mb   100.0% UPGMA5         \n",
      "waiting...\n",
      "\n",
      "muscle 5.1.osx64 []  8.6Gb RAM, 4 cores\n",
      "Built Feb 22 2022 02:38:35\n",
      "(C) Copyright 2004-2021 Robert C. Edgar.\n",
      "https://drive5.com\n",
      "\n",
      "Input: 2 seqs, avg length 320, max 484\n",
      "\n",
      "00:00 4.1Mb  CPU has 4 cores, running 4 threads\n",
      "00:00 4.2Mb   100.0% Calc posteriors\n",
      "00:00 7.6Mb   100.0% UPGMA5         \n",
      "waiting...\n",
      "\n",
      "muscle 5.1.osx64 []  8.6Gb RAM, 4 cores\n",
      "Built Feb 22 2022 02:38:35\n",
      "(C) Copyright 2004-2021 Robert C. Edgar.\n",
      "https://drive5.com\n",
      "\n",
      "Input: 2 seqs, avg length 2, max 4\n",
      "\n",
      "00:00 4.1Mb  CPU has 4 cores, running 4 threads\n",
      "00:00 4.2Mb   100.0% Calc posteriors\n",
      "00:00 4.3Mb   100.0% UPGMA5         \n",
      "waiting...\n",
      "PDBClean Residue Number Standardization Menu\n",
      "    Select one of the following options to proceed:\n",
      "    1) Perform multiple alignments to identify residues\n",
      "    2) View conversion template\n",
      "    3) Perform residue number standardization\n",
      "    OR Type QUIT to exit\n",
      "Option Number: PDBClean Residue Number Standardization Menu\n",
      "    Select one of the following options to proceed:\n",
      "    1) Perform multiple alignments to identify residues\n",
      "    2) View conversion template\n",
      "    3) Perform residue number standardization\n",
      "    OR Type QUIT to exit\n",
      "Option Number: "
     ]
    }
   ],
   "source": [
    "! echo '1\\n1\\n4\\n3\\nQUIT\\n' | PDBClean_ResidueStandardization_CIF.py $PROJDIR/subset2/standard_ChainID_bank_subset $PROJDIR/subset2/standard_ResidueID_bank_subset"
   ]
  },
  {
   "cell_type": "code",
   "execution_count": 20,
   "id": "0f519f0a",
   "metadata": {},
   "outputs": [],
   "source": [
    "! mv *.fasta *.fa $PROJDIR/subset2"
   ]
  },
  {
   "cell_type": "markdown",
   "id": "54f26e8a",
   "metadata": {},
   "source": [
    "## Results\n",
    "Now that we have rerun Step 4 for both subsets, we can take a look at the new alignments generated."
   ]
  },
  {
   "cell_type": "markdown",
   "id": "beb6fab7",
   "metadata": {},
   "source": [
    "### Subset 4 Results"
   ]
  },
  {
   "cell_type": "markdown",
   "id": "d0e059c9",
   "metadata": {},
   "source": [
    "#### TIM A"
   ]
  },
  {
   "cell_type": "markdown",
   "id": "4f59e3f5",
   "metadata": {},
   "source": [
    "![Subset 4 TIM A alignment](./images/JalviewSubset4TIMA_2.png)"
   ]
  },
  {
   "cell_type": "markdown",
   "id": "00bdd2e9",
   "metadata": {},
   "source": [
    "#### TIM B"
   ]
  },
  {
   "cell_type": "markdown",
   "id": "65dd3875",
   "metadata": {},
   "source": [
    "![Subset 4 TIM B alignment](./images/JalviewSubset4TIMB_2.png)"
   ]
  },
  {
   "cell_type": "markdown",
   "id": "6b566568",
   "metadata": {},
   "source": [
    "The alignments for subset 4 are \"perfect\", this is not surprising as the four sequences come from the same PDB ID. "
   ]
  },
  {
   "cell_type": "markdown",
   "id": "9f13ed87",
   "metadata": {},
   "source": [
    "### Subset 2 Results"
   ]
  },
  {
   "cell_type": "markdown",
   "id": "b4daefff",
   "metadata": {},
   "source": [
    "#### TIM A"
   ]
  },
  {
   "cell_type": "markdown",
   "id": "08d23c5e",
   "metadata": {},
   "source": [
    "![Subset 2 TIM A alignment](./images/JalviewSubset2TIMA_2.png)"
   ]
  },
  {
   "cell_type": "markdown",
   "id": "6d0b3831",
   "metadata": {},
   "source": [
    "#### TIM B"
   ]
  },
  {
   "cell_type": "markdown",
   "id": "1a26561f",
   "metadata": {},
   "source": [
    "![Subset 2 TIM B alignment](./images/JalviewSubset2TIMA_2.png)"
   ]
  },
  {
   "cell_type": "markdown",
   "id": "fca2e0de",
   "metadata": {},
   "source": [
    "For chain B, we see that one of the files didn't contain this chain. For chain A, we have a very good alignment, even if the sequences are not the exact same. However, it makes sense to keep the same numbering, as the same numbered residues are located in the same regions of the protein. This is further validated when we look at the structure, as shown below. "
   ]
  },
  {
   "cell_type": "markdown",
   "id": "096fbdf0",
   "metadata": {},
   "source": [
    "![TIM B Structure Alignment](./images/PymolSubset2.png)"
   ]
  },
  {
   "cell_type": "markdown",
   "id": "f18d478a",
   "metadata": {},
   "source": [
    "In the end, users can decide whether or not they want to seperate their structures into subsets based on what type of analysis they plan to do."
   ]
  },
  {
   "cell_type": "markdown",
   "id": "b2c842d4",
   "metadata": {},
   "source": [
    "## Next Steps\n",
    "\n",
    "For this tutorial we used a subset of all the TIM structures. We recommend repeating steps 2-4 for the whole dataset. \n",
    "Or change the keyword on step 0, to try a different molecule. \n",
    "\n",
    "The next set of notebooks focus on advanced curation steps and analysis. "
   ]
  }
 ],
 "metadata": {
  "kernelspec": {
   "display_name": "PDBCleanV2",
   "language": "python",
   "name": "pdbcleanv2"
  },
  "language_info": {
   "codemirror_mode": {
    "name": "ipython",
    "version": 3
   },
   "file_extension": ".py",
   "mimetype": "text/x-python",
   "name": "python",
   "nbconvert_exporter": "python",
   "pygments_lexer": "ipython3",
   "version": "3.10.5"
  }
 },
 "nbformat": 4,
 "nbformat_minor": 5
}
