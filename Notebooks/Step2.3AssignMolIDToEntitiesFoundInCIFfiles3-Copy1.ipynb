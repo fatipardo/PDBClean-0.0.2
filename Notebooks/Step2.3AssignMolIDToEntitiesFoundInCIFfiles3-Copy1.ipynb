{
 "cells": [
  {
   "cell_type": "markdown",
   "id": "4c0ecc5e",
   "metadata": {},
   "source": [
    "# Assign MolID to the entities found in the CIF files (3) "
   ]
  },
  {
   "cell_type": "markdown",
   "id": "dcea0cd6",
   "metadata": {},
   "source": [
    "# What is the goal of this notebook?\n",
    "\n",
    "This is a continuation from `Assign MolID to the entities found in the CIF files (2)`.\n",
    "In this notebook we will show how to perform concatenations and conversions if you wish to include your own file. Alongside 'what if's' of situations where there may be missing or same chain ID assignments.  \n",
    "\n",
    "There is an option available when the environment is being run, where the user is able to input their own file containing the chain ID assignments for every entity. This file would be located within the same directory containing all other directories related to their molecule.\n",
    "\n",
    "**Note:** Make sure to run part 1 and 2 of this step in advance."
   ]
  },
  {
   "cell_type": "code",
   "execution_count": 3,
   "id": "525822f3-f367-41d0-8d3b-5b998988a54c",
   "metadata": {},
   "outputs": [],
   "source": [
    "#Importing our library"
   ]
  },
  {
   "cell_type": "code",
   "execution_count": 4,
   "id": "ab6723b9-f093-416f-b9a1-8e05341a3ea0",
   "metadata": {},
   "outputs": [],
   "source": [
    "from PDBClean import pdbclean_io"
   ]
  },
  {
   "cell_type": "code",
   "execution_count": 5,
   "id": "fa7c881f",
   "metadata": {},
   "outputs": [],
   "source": [
    "PROJDIR = \"./TIM/\"\n",
    "input_file_path = PROJDIR + \"TIM_input_file.txt\""
   ]
  },
  {
   "cell_type": "markdown",
   "id": "9ff4d24b-aae4-478b-9728-d77a0db9b1f0",
   "metadata": {},
   "source": [
    "## Creating 'TIM_input_file.txt'\n",
    "\n",
    "This notebook uses 'TIM_input_file.txt' which contains the chain ID assignments we created in notebook 2.1 which were stored in our 'standard_MolID_bank' directory. We will create this txt file for the user by running the code block below. As mentioned previously, this txt file is saved within the directory created in step 0 for your molecule. For clarification, the file can be any name that the user wishes.\n",
    "\n",
    "As a reminder, the table below shows us the chain ID assignments we performed in step 2.1\n",
    "\n",
    "| New chain ID | ENTITIES |\n",
    "|---|:---|\n",
    "| A | 1:TRIOSEPHOSPHATE ISOMERASE SYNONYM TRIOSE-PHOSPHATE ISOMERASE, TIM: |\n",
    "| B | 1:SN-GLYCEROL-3-PHOSPHATE: |\n",
    "| C | 1:SN-GLYCEROL-1-PHOSPHATE: |\n",
    "| D,E | 2:GLYCEROL: |\n",
    "| F,G | 2:WATER: |\n",
    "| H,I | 2:TRIOSEPHOSPHATE ISOMERASE: |\n",
    "| J | 1:PHOSPHATE ION: |\n",
    "| K,L | 2:2-PHOSPHOGLYCOLIC ACID: | \n"
   ]
  },
  {
   "cell_type": "code",
   "execution_count": 7,
   "id": "f00cc09b-cc91-407e-a203-1fb1c2635bd5",
   "metadata": {
    "scrolled": true
   },
   "outputs": [],
   "source": [
    "# Creating the file for the user\n",
    "text = \"\"\"\n",
    "    TRIOSEPHOSPHATE ISOMERASE SYNONYM TRIOSE-PHOSPHATE ISOMERASE, TIM:A\n",
    "    SN-GLYCEROL-3-PHOSPHATE:B\n",
    "    SN-GLYCEROL-1-PHOSPHATE:C\n",
    "    GLYCEROL:D,E\n",
    "    WATER:F,G\n",
    "    TRIOSEPHOSPHATE ISOMERASE:H,I\n",
    "    PHOSPHATE ION:J\n",
    "    2-PHOSPHOGLYCOLIC ACID:K,L\n",
    "    \"\"\".strip()\n",
    "\n",
    "text = \"\\n\".join(line.strip() for line in text.splitlines())\n",
    "\n",
    "with open('TIM_input_file.txt', 'w') as file:\n",
    "    file.write(text)"
   ]
  },
  {
   "cell_type": "code",
   "execution_count": 8,
   "id": "b5e5fc64-c366-4c94-860c-397259c25f35",
   "metadata": {},
   "outputs": [],
   "source": [
    "# To move it to the right directory (for me)\n",
    "! mv TIM_input_file.txt ~/Internship/PDBClean-0.0.2/Notebooks/TIM"
   ]
  },
  {
   "cell_type": "code",
   "execution_count": 9,
   "id": "9b502cd8-20bd-4bc6-8824-697ff42c36db",
   "metadata": {},
   "outputs": [
    {
     "name": "stdout",
     "output_type": "stream",
     "text": [
      "TRIOSEPHOSPHATE ISOMERASE SYNONYM TRIOSE-PHOSPHATE ISOMERASE, TIM:A\n",
      "SN-GLYCEROL-3-PHOSPHATE:B\n",
      "SN-GLYCEROL-1-PHOSPHATE:C\n",
      "GLYCEROL:D,E\n",
      "WATER:F,G\n",
      "TRIOSEPHOSPHATE ISOMERASE:H,I\n",
      "PHOSPHATE ION:J\n",
      "2-PHOSPHOGLYCOLIC ACID:K,L"
     ]
    }
   ],
   "source": [
    "# Let's ensure that everything has been saved accordingly\n",
    "! cat $input_file_path"
   ]
  },
  {
   "cell_type": "markdown",
   "id": "4aac2632",
   "metadata": {},
   "source": [
    "## Running PDBClean_MolID_CIF.py \n",
    "\n",
    "Remember that the way to run this script in the terminal is as following:\n",
    "\n",
    "> PDBClean_MolID_CIF.py `{Input Directory}` `{Output Directory}`\n",
    "\n",
    "* The input directory: Directory containing the structures generated in Step 1 \n",
    "* The output directory: Directory where the new structures will be stored. \n",
    "\n",
    "\n",
    "**Note:** We recommend running the script directly on the terminal. We are running it from the notebook just for demonstration purpose."
   ]
  },
  {
   "cell_type": "markdown",
   "id": "56b50390",
   "metadata": {},
   "source": [
    "### Workflow\n",
    "\n",
    "When running the script, the user will be presented with the same Conversion Build Menu presented in the previous parts to step 2. The user will select option `3) Enter input file` and enter the name of their file. Since our Chain ID assignments are complete and have no conflicts, we will be presented with option `7) Continue to next step of curation`, then option `6) Finalize Curation` which finishes oru progress.\n",
    "\n",
    "Summary:\n",
    "\n",
    "`3) Enter input file` -> `Conversion File: 'TIM_input_file.txt'` -> `7) Continue to next step of curation` -> `6) Finalize Curation`"
   ]
  },
  {
   "cell_type": "code",
   "execution_count": 12,
   "id": "d0bfb5cf",
   "metadata": {},
   "outputs": [
    {
     "name": "stdout",
     "output_type": "stream",
     "text": [
      "zsh:1: command not found: PDBClean_MolID_CIF.py\n"
     ]
    }
   ],
   "source": [
    "#running the command\n",
    "\n",
    "! echo '3\\nTIM_file_input.txt\\n1\\n7\\n6' | PDBClean_MolID_CIF.py $PROJDIR/simple_bank_sub $PROJDIR/standard_MolID_bank"
   ]
  },
  {
   "cell_type": "code",
   "execution_count": 13,
   "id": "cf2952dc-4ded-48c9-8fe0-e8c19cef93e7",
   "metadata": {},
   "outputs": [],
   "source": [
    "text = \"\"\"\n",
    "    TRIOSEPHOSPHATE ISOMERASE SYNONYM TRIOSE-PHOSPHATE ISOMERASE, TIM:\n",
    "    SN-GLYCEROL-3-PHOSPHATE:\n",
    "    SN-GLYCEROL-1-PHOSPHATE:\n",
    "    GLYCEROL:D,E\n",
    "    WATER:F,G\n",
    "    TRIOSEPHOSPHATE ISOMERASE:H,I\n",
    "    PHOSPHATE ION:J\n",
    "    2-PHOSPHOGLYCOLIC ACID:K,L\n",
    "    \"\"\".strip()\n",
    "\n",
    "text = \"\\n\".join(line.strip() for line in text.splitlines())\n",
    "\n",
    "with open('TIM_input_file.txt', 'w') as file:\n",
    "    file.write(text)"
   ]
  },
  {
   "cell_type": "code",
   "execution_count": 14,
   "id": "3c045a52-0767-41b7-927b-efcbc1130f9f",
   "metadata": {},
   "outputs": [],
   "source": [
    "#To move it to the right one (for me)\n",
    "! mv TIM_input_file.txt ~/Internship/PDBClean-0.0.2/Notebooks/TIM"
   ]
  },
  {
   "cell_type": "code",
   "execution_count": 15,
   "id": "6901567c-691e-4624-a062-4b7890995c78",
   "metadata": {},
   "outputs": [
    {
     "name": "stdout",
     "output_type": "stream",
     "text": [
      "zsh:1: command not found: PDBClean_MolID_CIF.py\n"
     ]
    }
   ],
   "source": [
    "! echo '3\\nTIM_file_input.txt' | PDBClean_MolID_CIF.py $PROJDIR/simple_bank_sub $PROJDIR/standard_MolID_bank"
   ]
  },
  {
   "cell_type": "markdown",
   "id": "bbaef979-b080-453b-88f7-ebd3e3e3c8e6",
   "metadata": {},
   "source": [
    "You are not greeted with the 'ready to curate message' instead you are presented with the normal menu, click 1) which shows you everything, then 2) shows you which ones are unnasigned,now knowing the entities which are unassigned, you can now  click 4) which lets you search the entity name to then add the chain ID of your choice, here you can click 1 do add a specific chain ID to each 'type'? or 2 to assign the same chain ID to all of them. "
   ]
  },
  {
   "cell_type": "markdown",
   "id": "c401afd5-057e-4f69-a95f-578deecdea59",
   "metadata": {},
   "source": [
    "## Same chain ID assignments\n",
    "\n",
    "Now, what if there are some entities with the same chain ID assignments? Below is a table of what this file would look like.\n",
    "\n",
    "| New chain ID | ENTITIES |\n",
    "|---|:---|\n",
    "| A | 1:TRIOSEPHOSPHATE ISOMERASE SYNONYM TRIOSE-PHOSPHATE ISOMERASE, TIM: |\n",
    "| D | 1:SN-GLYCEROL-3-PHOSPHATE: |\n",
    "| D | 1:SN-GLYCEROL-1-PHOSPHATE: |\n",
    "| D,D | 2:GLYCEROL: |\n",
    "| C,C | 2:WATER: |\n",
    "| A,B | 2:TRIOSEPHOSPHATE ISOMERASE: |\n",
    "| D | 1:PHOSPHATE ION: |\n",
    "| D,D | 2:2-PHOSPHOGLYCOLIC ACID: | "
   ]
  },
  {
   "cell_type": "code",
   "execution_count": 18,
   "id": "d3aa7619-4945-4756-922f-cbc2596b3bd6",
   "metadata": {},
   "outputs": [],
   "source": [
    "# Creating the file with the same chain ID assignments\n",
    "text = \"\"\"\n",
    "    TRIOSEPHOSPHATE ISOMERASE SYNONYM TRIOSE-PHOSPHATE ISOMERASE, TIM:A\n",
    "    SN-GLYCEROL-3-PHOSPHATE:D\n",
    "    SN-GLYCEROL-1-PHOSPHATE:D\n",
    "    GLYCEROL:D,D\n",
    "    WATER:C,C\n",
    "    TRIOSEPHOSPHATE ISOMERASE:A,B\n",
    "    PHOSPHATE ION:D\n",
    "    2-PHOSPHOGLYCOLIC ACID:D,D\n",
    "    \"\"\".strip()\n",
    "\n",
    "text = \"\\n\".join(line.strip() for line in text.splitlines())\n",
    "\n",
    "with open('TIM_input_file.txt', 'w') as file:\n",
    "    file.write(text)"
   ]
  },
  {
   "cell_type": "code",
   "execution_count": 19,
   "id": "5d050310-5e0b-48cf-b856-fc78d34ec374",
   "metadata": {},
   "outputs": [],
   "source": [
    "#To move it to the right directory (for me)\n",
    "! mv TIM_input_file.txt ~/Internship/PDBClean-0.0.2/Notebooks/TIM"
   ]
  },
  {
   "cell_type": "markdown",
   "id": "48712a47-85b2-4b55-b999-732fc83ead0b",
   "metadata": {},
   "source": [
    "### Workflow\n",
    "As similar to the previous step, The user would select option `3) Enter input file`, which will similarly prompt them to enter the name of the file. They will be presented with option `7) Continue to next step of curation`, however, a message will display informing them that they have assigned similar chain ID assignments to two or more entities. The user is able to fix this by either selecting `5) Accept ALL` which is the option to select all concatenations as is, or option `4) Accept proposed concatenation one by one`, which allows the user to accept each concatenation one by one.\n",
    "\n",
    "Summary:\n",
    "\n",
    "`3) Enter input file` -> `Type in the name of your file 'TIM_input_file.txt'` -> `7) Continue to next step of curation` -> `5) Accept ALL (BE CAREFUL, make sure you agree with all concatenations)` **OR** `4) Accept proposed concatenation one by one (Repeat this step until finalizing option appears)` -> `6) Finalize Curation`"
   ]
  },
  {
   "cell_type": "code",
   "execution_count": 21,
   "id": "fce53cf9-0876-4e69-a405-e1fdc146f2e5",
   "metadata": {},
   "outputs": [
    {
     "name": "stdout",
     "output_type": "stream",
     "text": [
      "zsh:1: command not found: PDBClean_MolID_CIF.py\n"
     ]
    }
   ],
   "source": [
    "! echo '3\\nTIM_file_input.txt\\n1\\n7\\n5\\n6' | PDBClean_MolID_CIF.py $PROJDIR/simple_bank_sub $PROJDIR/standard_MolID_bank"
   ]
  }
 ],
 "metadata": {
  "kernelspec": {
   "display_name": "PDBCleanVTEST",
   "language": "python",
   "name": "pdbcleanvtest"
  },
  "language_info": {
   "codemirror_mode": {
    "name": "ipython",
    "version": 3
   },
   "file_extension": ".py",
   "mimetype": "text/x-python",
   "name": "python",
   "nbconvert_exporter": "python",
   "pygments_lexer": "ipython3",
   "version": "3.10.5"
  }
 },
 "nbformat": 4,
 "nbformat_minor": 5
}
