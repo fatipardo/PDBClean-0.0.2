{
 "cells": [
  {
   "cell_type": "markdown",
   "metadata": {},
   "source": [
    "# 0. Download structural ensemble from RCSB PDB "
   ]
  },
  {
   "cell_type": "markdown",
   "metadata": {},
   "source": [
    "## What is the goal of this notebook?\n",
    "\n",
    "\n",
    "You can use this notebook to download all the structures that match a specific 'keyword' and that are deposited on the PDB. For example, in this tutorial, we will download all the stuctures that contain the keyword 'triosephosphate isomerase' in their metadata. \n",
    "\n",
    "You can also download structures based on the sequence of the molecule of interest. \n",
    "\n",
    "You can choose to use only one of the methods, or you can do both if you want to make sure that you obtain all possible matching structures deposited in [RCSB PDB](https://www.rcsb.org/). \n",
    "\n"
   ]
  },
  {
   "cell_type": "markdown",
   "metadata": {},
   "source": [
    "## Import libraries, including PDBClean"
   ]
  },
  {
   "cell_type": "code",
   "execution_count": 1,
   "metadata": {},
   "outputs": [],
   "source": [
    "import numpy as np\n",
    "from PDBClean import pdbclean_io, pdbutils"
   ]
  },
  {
   "cell_type": "markdown",
   "metadata": {},
   "source": [
    "## Define and create working directory (where you want to save your structures)"
   ]
  },
  {
   "cell_type": "code",
   "execution_count": 2,
   "metadata": {},
   "outputs": [],
   "source": [
    "PROJDIR=\"./TIM/\""
   ]
  },
  {
   "cell_type": "markdown",
   "metadata": {},
   "source": [
    "With check_project we can check if our project directory (PROJDIR) exists, and if it doesn't, we create it. "
   ]
  },
  {
   "cell_type": "code",
   "execution_count": 3,
   "metadata": {},
   "outputs": [
    {
     "name": "stdout",
     "output_type": "stream",
     "text": [
      "./TIM/ already exists, with content:\n",
      "['info.txt', 'seqres.txt']\n"
     ]
    }
   ],
   "source": [
    "pdbclean_io.check_project(projdir=PROJDIR)"
   ]
  },
  {
   "cell_type": "markdown",
   "metadata": {},
   "source": [
    "## Check if the file with all sequences from PDB already exists. \n",
    "\n",
    "'seqfile' is where we will download the sequences of all the structures currently deposited in [RCSB PDB](rcsb.org).\n",
    "If you haven't downloaded them, or if you want to update the list, keep:\n",
    "> update=True\n",
    "\n",
    "otherwise change to:\n",
    ">update=False \n",
    "\n",
    "And make sure to change 'seqfile' to the path where you have stored the sequences. \n"
   ]
  },
  {
   "cell_type": "code",
   "execution_count": 4,
   "metadata": {},
   "outputs": [],
   "source": [
    "update=True            \n",
    "seqfile=PROJDIR+'seqres.txt' "
   ]
  },
  {
   "cell_type": "markdown",
   "metadata": {},
   "source": [
    "## Retrieve reference sequence(s) from keyword\n",
    "\n",
    "Change the keyword to any protein (or any other biomolecule) of interest. \n"
   ]
  },
  {
   "cell_type": "code",
   "execution_count": 5,
   "metadata": {},
   "outputs": [],
   "source": [
    "keyword='triosephosphate isomerase' "
   ]
  },
  {
   "cell_type": "markdown",
   "metadata": {},
   "source": [
    "Run the next cell. \n",
    "\n",
    "The next cell will download all the sequences currently deposited in [RCSB PDB](rcsb.org).\n",
    "\n",
    "It will use the given 'keyword' to search for all the matching sequences, based on the metadata (mode='metadata'). \\\n",
    "Results will be stored in 'ref_sequences' and 'ref_metadata', and printed to screen. \n",
    "\n",
    "Note: Depending on your internet connection, it may take a few minutes to download the sequences. But you only need \\\n",
    "to do this step once. "
   ]
  },
  {
   "cell_type": "code",
   "execution_count": 6,
   "metadata": {},
   "outputs": [
    {
     "ename": "KeyboardInterrupt",
     "evalue": "",
     "output_type": "error",
     "traceback": [
      "\u001b[0;31m---------------------------------------------------------------------------\u001b[0m",
      "\u001b[0;31mKeyboardInterrupt\u001b[0m                         Traceback (most recent call last)",
      "Input \u001b[0;32mIn [6]\u001b[0m, in \u001b[0;36m<cell line: 1>\u001b[0;34m()\u001b[0m\n\u001b[0;32m----> 1\u001b[0m ref_sequences, ref_metadata \u001b[38;5;241m=\u001b[39m \u001b[43mpdbutils\u001b[49m\u001b[38;5;241;43m.\u001b[39;49m\u001b[43mretrieve_sequence_from_PDB\u001b[49m\u001b[43m(\u001b[49m\u001b[43mkeyword\u001b[49m\u001b[43m,\u001b[49m\u001b[43m \u001b[49m\u001b[43mmode\u001b[49m\u001b[38;5;241;43m=\u001b[39;49m\u001b[38;5;124;43m'\u001b[39;49m\u001b[38;5;124;43mmetadata\u001b[39;49m\u001b[38;5;124;43m'\u001b[39;49m\u001b[43m,\u001b[49m\u001b[43m \u001b[49m\u001b[43mupdate\u001b[49m\u001b[38;5;241;43m=\u001b[39;49m\u001b[38;5;28;43;01mTrue\u001b[39;49;00m\u001b[43m,\u001b[49m\u001b[43m \u001b[49m\u001b[43mseqfile\u001b[49m\u001b[38;5;241;43m=\u001b[39;49m\u001b[43mseqfile\u001b[49m\u001b[43m)\u001b[49m\n\u001b[1;32m      2\u001b[0m \u001b[38;5;28mprint\u001b[39m(\u001b[38;5;124m'\u001b[39m\u001b[38;5;132;01m{0}\u001b[39;00m\u001b[38;5;124m sequences were identified as potential hits! \u001b[39m\u001b[38;5;130;01m\\n\u001b[39;00m\u001b[38;5;124m'\u001b[39m\u001b[38;5;241m.\u001b[39mformat(\u001b[38;5;28mlen\u001b[39m(ref_sequences)))\n\u001b[1;32m      3\u001b[0m \u001b[38;5;28;01mfor\u001b[39;00m iseq \u001b[38;5;129;01min\u001b[39;00m np\u001b[38;5;241m.\u001b[39marange(\u001b[38;5;28mlen\u001b[39m(ref_sequences)):\n",
      "File \u001b[0;32m~/anaconda3/envs/PDBC0722/lib/python3.10/site-packages/PDBClean-0.0.1-py3.10.egg/PDBClean/pdbutils.py:60\u001b[0m, in \u001b[0;36mretrieve_sequence_from_PDB\u001b[0;34m(keyword, mode, update, seqfile)\u001b[0m\n\u001b[1;32m     58\u001b[0m     \u001b[38;5;28;01mwith\u001b[39;00m suppress(\u001b[38;5;167;01mFileNotFoundError\u001b[39;00m):\n\u001b[1;32m     59\u001b[0m         os\u001b[38;5;241m.\u001b[39mremove(seqfile) \u001b[38;5;66;03m# remove existing seqfile if any\u001b[39;00m\n\u001b[0;32m---> 60\u001b[0m     seqfile \u001b[38;5;241m=\u001b[39m \u001b[43mretrieve_seqfile\u001b[49m\u001b[43m(\u001b[49m\u001b[43mseqfile\u001b[49m\u001b[38;5;241;43m=\u001b[39;49m\u001b[43mseqfile\u001b[49m\u001b[43m)\u001b[49m\n\u001b[1;32m     61\u001b[0m metadata \u001b[38;5;241m=\u001b[39m []\n\u001b[1;32m     62\u001b[0m sequence \u001b[38;5;241m=\u001b[39m []\n",
      "File \u001b[0;32m~/anaconda3/envs/PDBC0722/lib/python3.10/site-packages/PDBClean-0.0.1-py3.10.egg/PDBClean/pdbutils.py:89\u001b[0m, in \u001b[0;36mretrieve_seqfile\u001b[0;34m(seqfile)\u001b[0m\n\u001b[1;32m     87\u001b[0m \u001b[38;5;28;01mif\u001b[39;00m seqfile \u001b[38;5;129;01mis\u001b[39;00m \u001b[38;5;28;01mNone\u001b[39;00m:\n\u001b[1;32m     88\u001b[0m     seqfile\u001b[38;5;241m=\u001b[39m\u001b[38;5;124m'\u001b[39m\u001b[38;5;124mseqfile.txt\u001b[39m\u001b[38;5;124m'\u001b[39m\n\u001b[0;32m---> 89\u001b[0m \u001b[43mdownload_from_url\u001b[49m\u001b[43m(\u001b[49m\u001b[43msequrl\u001b[49m\u001b[43m,\u001b[49m\u001b[43m \u001b[49m\u001b[43mseqfile\u001b[49m\u001b[43m)\u001b[49m\n\u001b[1;32m     90\u001b[0m \u001b[38;5;28;01mreturn\u001b[39;00m seqfile\n",
      "File \u001b[0;32m~/anaconda3/envs/PDBC0722/lib/python3.10/site-packages/PDBClean-0.0.1-py3.10.egg/PDBClean/pdbutils.py:98\u001b[0m, in \u001b[0;36mdownload_from_url\u001b[0;34m(source, target)\u001b[0m\n\u001b[1;32m     96\u001b[0m \u001b[38;5;28;01mwith\u001b[39;00m closing(urlopen(source)) \u001b[38;5;28;01mas\u001b[39;00m r:\n\u001b[1;32m     97\u001b[0m     \u001b[38;5;28;01mwith\u001b[39;00m \u001b[38;5;28mopen\u001b[39m(target, \u001b[38;5;124m'\u001b[39m\u001b[38;5;124mwb\u001b[39m\u001b[38;5;124m'\u001b[39m) \u001b[38;5;28;01mas\u001b[39;00m f:\n\u001b[0;32m---> 98\u001b[0m         \u001b[43mshutil\u001b[49m\u001b[38;5;241;43m.\u001b[39;49m\u001b[43mcopyfileobj\u001b[49m\u001b[43m(\u001b[49m\u001b[43mr\u001b[49m\u001b[43m,\u001b[49m\u001b[43mf\u001b[49m\u001b[43m)\u001b[49m\n\u001b[1;32m     99\u001b[0m \u001b[38;5;28mprint\u001b[39m(\u001b[38;5;124m'\u001b[39m\u001b[38;5;124mwrote \u001b[39m\u001b[38;5;132;01m{0}\u001b[39;00m\u001b[38;5;124m from \u001b[39m\u001b[38;5;132;01m{1}\u001b[39;00m\u001b[38;5;124m'\u001b[39m\u001b[38;5;241m.\u001b[39mformat(target, source))\n",
      "File \u001b[0;32m~/anaconda3/envs/PDBC0722/lib/python3.10/shutil.py:195\u001b[0m, in \u001b[0;36mcopyfileobj\u001b[0;34m(fsrc, fdst, length)\u001b[0m\n\u001b[1;32m    193\u001b[0m fdst_write \u001b[38;5;241m=\u001b[39m fdst\u001b[38;5;241m.\u001b[39mwrite\n\u001b[1;32m    194\u001b[0m \u001b[38;5;28;01mwhile\u001b[39;00m \u001b[38;5;28;01mTrue\u001b[39;00m:\n\u001b[0;32m--> 195\u001b[0m     buf \u001b[38;5;241m=\u001b[39m \u001b[43mfsrc_read\u001b[49m\u001b[43m(\u001b[49m\u001b[43mlength\u001b[49m\u001b[43m)\u001b[49m\n\u001b[1;32m    196\u001b[0m     \u001b[38;5;28;01mif\u001b[39;00m \u001b[38;5;129;01mnot\u001b[39;00m buf:\n\u001b[1;32m    197\u001b[0m         \u001b[38;5;28;01mbreak\u001b[39;00m\n",
      "File \u001b[0;32m~/anaconda3/envs/PDBC0722/lib/python3.10/tempfile.py:483\u001b[0m, in \u001b[0;36m_TemporaryFileWrapper.__getattr__.<locals>.func_wrapper\u001b[0;34m(*args, **kwargs)\u001b[0m\n\u001b[1;32m    481\u001b[0m \u001b[38;5;129m@_functools\u001b[39m\u001b[38;5;241m.\u001b[39mwraps(func)\n\u001b[1;32m    482\u001b[0m \u001b[38;5;28;01mdef\u001b[39;00m \u001b[38;5;21mfunc_wrapper\u001b[39m(\u001b[38;5;241m*\u001b[39margs, \u001b[38;5;241m*\u001b[39m\u001b[38;5;241m*\u001b[39mkwargs):\n\u001b[0;32m--> 483\u001b[0m     \u001b[38;5;28;01mreturn\u001b[39;00m \u001b[43mfunc\u001b[49m\u001b[43m(\u001b[49m\u001b[38;5;241;43m*\u001b[39;49m\u001b[43margs\u001b[49m\u001b[43m,\u001b[49m\u001b[43m \u001b[49m\u001b[38;5;241;43m*\u001b[39;49m\u001b[38;5;241;43m*\u001b[39;49m\u001b[43mkwargs\u001b[49m\u001b[43m)\u001b[49m\n",
      "File \u001b[0;32m~/anaconda3/envs/PDBC0722/lib/python3.10/tempfile.py:483\u001b[0m, in \u001b[0;36m_TemporaryFileWrapper.__getattr__.<locals>.func_wrapper\u001b[0;34m(*args, **kwargs)\u001b[0m\n\u001b[1;32m    481\u001b[0m \u001b[38;5;129m@_functools\u001b[39m\u001b[38;5;241m.\u001b[39mwraps(func)\n\u001b[1;32m    482\u001b[0m \u001b[38;5;28;01mdef\u001b[39;00m \u001b[38;5;21mfunc_wrapper\u001b[39m(\u001b[38;5;241m*\u001b[39margs, \u001b[38;5;241m*\u001b[39m\u001b[38;5;241m*\u001b[39mkwargs):\n\u001b[0;32m--> 483\u001b[0m     \u001b[38;5;28;01mreturn\u001b[39;00m \u001b[43mfunc\u001b[49m\u001b[43m(\u001b[49m\u001b[38;5;241;43m*\u001b[39;49m\u001b[43margs\u001b[49m\u001b[43m,\u001b[49m\u001b[43m \u001b[49m\u001b[38;5;241;43m*\u001b[39;49m\u001b[38;5;241;43m*\u001b[39;49m\u001b[43mkwargs\u001b[49m\u001b[43m)\u001b[49m\n",
      "File \u001b[0;32m~/anaconda3/envs/PDBC0722/lib/python3.10/socket.py:705\u001b[0m, in \u001b[0;36mSocketIO.readinto\u001b[0;34m(self, b)\u001b[0m\n\u001b[1;32m    703\u001b[0m \u001b[38;5;28;01mwhile\u001b[39;00m \u001b[38;5;28;01mTrue\u001b[39;00m:\n\u001b[1;32m    704\u001b[0m     \u001b[38;5;28;01mtry\u001b[39;00m:\n\u001b[0;32m--> 705\u001b[0m         \u001b[38;5;28;01mreturn\u001b[39;00m \u001b[38;5;28;43mself\u001b[39;49m\u001b[38;5;241;43m.\u001b[39;49m\u001b[43m_sock\u001b[49m\u001b[38;5;241;43m.\u001b[39;49m\u001b[43mrecv_into\u001b[49m\u001b[43m(\u001b[49m\u001b[43mb\u001b[49m\u001b[43m)\u001b[49m\n\u001b[1;32m    706\u001b[0m     \u001b[38;5;28;01mexcept\u001b[39;00m timeout:\n\u001b[1;32m    707\u001b[0m         \u001b[38;5;28mself\u001b[39m\u001b[38;5;241m.\u001b[39m_timeout_occurred \u001b[38;5;241m=\u001b[39m \u001b[38;5;28;01mTrue\u001b[39;00m\n",
      "\u001b[0;31mKeyboardInterrupt\u001b[0m: "
     ]
    }
   ],
   "source": [
    "ref_sequences, ref_metadata = pdbutils.retrieve_sequence_from_PDB(keyword, mode='metadata', update=True, seqfile=seqfile)\n",
    "\n",
    "print('{0} sequences were identified as potential hits! \\n'.format(len(ref_sequences)))\n",
    "\n",
    "for iseq in np.arange(len(ref_sequences)):\n",
    "    print('{0} {1}'.format(ref_metadata[iseq], ref_sequences[iseq]))"
   ]
  },
  {
   "cell_type": "markdown",
   "metadata": {},
   "source": [
    "## Retrieve all sequences that match the reference sequence(s)\n",
    "\n",
    "We will use the sequences we retrieved in our previous search (mode='metadata'), to run new searches based on sequence (mode='sequence'). \n",
    "\n",
    "We will print to screen all the sequences that are retrieved. \n",
    "\n",
    "Notice that in this step, 'update=False', since we downloaded the RCSB PDB sequences in the previous step. \n"
   ]
  },
  {
   "cell_type": "code",
   "execution_count": null,
   "metadata": {},
   "outputs": [],
   "source": [
    "sequences, metadata = pdbutils.retrieve_sequence_from_PDB(ref_sequences[0], mode='sequence', update=False, seqfile=seqfile)\n",
    "\n",
    "for seq in ref_sequences[1:]:\n",
    "    newseq, newmet = pdbutils.retrieve_sequence_from_PDB(seq, mode='sequence', update=False, seqfile=seqfile)\n",
    "    sequences = np.append(sequences, newseq)\n",
    "    metadata  = np.append(metadata, newmet)\n",
    "\n",
    "print('{0} sequences were retrieved! \\n'.format(len(sequences)))\n",
    "\n",
    "for iseq in np.arange(len(sequences)):\n",
    "    print('{0} {1}'.format(metadata[iseq], sequences[iseq]))"
   ]
  },
  {
   "cell_type": "markdown",
   "metadata": {},
   "source": [
    "## Download PDB files\n",
    "\n",
    "We first create a new directory where to download the structures ('raw_bank'). We use the function check_project. \\\n",
    "Notice that the option 'level' allows you to name the directory. \n",
    "\n",
    "'dowload_pdb_from_metadata' downloads the structures from [RCSB PDB](rcsb.org). We are using the metadata \\\n",
    "we populated in the previous 2 steps. \n"
   ]
  },
  {
   "cell_type": "code",
   "execution_count": null,
   "metadata": {},
   "outputs": [],
   "source": [
    "pdbclean_io.check_project(projdir=PROJDIR, level='raw_bank')"
   ]
  },
  {
   "cell_type": "code",
   "execution_count": null,
   "metadata": {},
   "outputs": [],
   "source": [
    "pdbutils.download_pdb_from_metadata(metadata, projdir=PROJDIR)"
   ]
  },
  {
   "cell_type": "code",
   "execution_count": null,
   "metadata": {},
   "outputs": [],
   "source": []
  },
  {
   "cell_type": "code",
   "execution_count": null,
   "metadata": {},
   "outputs": [],
   "source": []
  },
  {
   "cell_type": "code",
   "execution_count": null,
   "metadata": {},
   "outputs": [],
   "source": []
  },
  {
   "cell_type": "code",
   "execution_count": null,
   "metadata": {},
   "outputs": [],
   "source": []
  }
 ],
 "metadata": {
  "kernelspec": {
   "display_name": "PDBC0722",
   "language": "python",
   "name": "pdbc0722"
  },
  "language_info": {
   "codemirror_mode": {
    "name": "ipython",
    "version": 3
   },
   "file_extension": ".py",
   "mimetype": "text/x-python",
   "name": "python",
   "nbconvert_exporter": "python",
   "pygments_lexer": "ipython3",
   "version": "3.10.5"
  }
 },
 "nbformat": 4,
 "nbformat_minor": 5
}
