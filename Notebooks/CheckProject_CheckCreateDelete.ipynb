{
 "cells": [
  {
   "cell_type": "markdown",
   "id": "0667c937",
   "metadata": {},
   "source": [
    "# How to use 'Check Project'\n",
    "\n",
    "In this Notebook we will demonstrate how to use 'pdbclean_io.check_project'.\n",
    "This function helps you check if a directory exists, create it, or delete it. \n",
    "\n",
    "Note: We are running this tutorial after finishing steps 1 and 2."
   ]
  },
  {
   "cell_type": "code",
   "execution_count": 1,
   "id": "cbe7e596",
   "metadata": {},
   "outputs": [],
   "source": [
    "from PDBClean import pdbclean_io"
   ]
  },
  {
   "cell_type": "code",
   "execution_count": 2,
   "id": "82634f8e",
   "metadata": {},
   "outputs": [],
   "source": [
    "# Path to project directory\n",
    "PROJDIR=\"./TIM\""
   ]
  },
  {
   "cell_type": "code",
   "execution_count": 3,
   "id": "c47d581a",
   "metadata": {},
   "outputs": [
    {
     "name": "stdout",
     "output_type": "stream",
     "text": [
      "ls: ./TIM: No such file or directory\r\n"
     ]
    }
   ],
   "source": [
    "# Let's check first what the project directory contains\n",
    "!ls $PROJDIR"
   ]
  },
  {
   "cell_type": "code",
   "execution_count": 4,
   "id": "8c46605c",
   "metadata": {},
   "outputs": [],
   "source": [
    "# Action 'create' will create a directory\n",
    "# With Option 'level' you can name the new directory\n",
    "# The new directory contains text file 'info.txt' with the date when the directory was created\n",
    "\n",
    "pdbclean_io.check_project(projdir=PROJDIR, action='create', level='standard_MolID_bank')"
   ]
  },
  {
   "cell_type": "code",
   "execution_count": 5,
   "id": "6af82697",
   "metadata": {},
   "outputs": [
    {
     "name": "stdout",
     "output_type": "stream",
     "text": [
      "\u001b[34mclean_bank\u001b[m\u001b[m          \u001b[34mraw_bank\u001b[m\u001b[m            \u001b[34msimple_bank\u001b[m\u001b[m\r\n",
      "info.txt            seqres.txt          \u001b[34mstandard_MolID_bank\u001b[m\u001b[m\r\n"
     ]
    }
   ],
   "source": [
    "# Run the next 2 cells to verify that the directory was created, and that it contains the info.txt file.\n",
    "!ls $PROJDIR"
   ]
  },
  {
   "cell_type": "code",
   "execution_count": 6,
   "id": "4504b8bd",
   "metadata": {},
   "outputs": [
    {
     "name": "stdout",
     "output_type": "stream",
     "text": [
      "directory created on 2022-08-23 23:41:44.214555"
     ]
    }
   ],
   "source": [
    "!cat $PROJDIR/standard_MolID_bank/info.txt"
   ]
  },
  {
   "cell_type": "code",
   "execution_count": 7,
   "id": "ee1cd175",
   "metadata": {},
   "outputs": [
    {
     "name": "stdout",
     "output_type": "stream",
     "text": [
      "Cleaning ./TIM/standard_MolID_bank...\n"
     ]
    }
   ],
   "source": [
    "# action 'clean' will remove all files inside the directory 'level'\n",
    "pdbclean_io.check_project(projdir=PROJDIR, action='clean', level='standard_MolID_bank')"
   ]
  },
  {
   "cell_type": "code",
   "execution_count": 8,
   "id": "e275c246",
   "metadata": {},
   "outputs": [],
   "source": [
    "# Run this cell to verify that the directory we just created is now empty\n",
    "!ls $PROJDIR/standard_MolID_bank/"
   ]
  },
  {
   "cell_type": "code",
   "execution_count": 9,
   "id": "4015d784",
   "metadata": {},
   "outputs": [
    {
     "name": "stdout",
     "output_type": "stream",
     "text": [
      "Deleting ./TIM/standard_MolID_bank...\n"
     ]
    }
   ],
   "source": [
    "# action 'delete' will delete the 'level' directory\n",
    "pdbclean_io.check_project(projdir=PROJDIR, action='delete', level='standard_MolID_bank')"
   ]
  },
  {
   "cell_type": "code",
   "execution_count": 10,
   "id": "9964d932",
   "metadata": {},
   "outputs": [
    {
     "name": "stdout",
     "output_type": "stream",
     "text": [
      "\u001b[34mclean_bank\u001b[m\u001b[m  info.txt    \u001b[34mraw_bank\u001b[m\u001b[m    seqres.txt  \u001b[34msimple_bank\u001b[m\u001b[m\r\n"
     ]
    }
   ],
   "source": [
    "# Run this cell to verify that the directory has been removed\n",
    "!ls $PROJDIR/"
   ]
  },
  {
   "cell_type": "code",
   "execution_count": 11,
   "id": "18f26559",
   "metadata": {},
   "outputs": [],
   "source": [
    "# Now, let's create the directory again\n",
    "pdbclean_io.check_project(projdir=PROJDIR, action='create', level='standard_MolID_bank')"
   ]
  },
  {
   "cell_type": "code",
   "execution_count": 12,
   "id": "82722c14",
   "metadata": {},
   "outputs": [
    {
     "name": "stdout",
     "output_type": "stream",
     "text": [
      "./TIM/standard_MolID_bank already exists, with content:\n",
      "['info.txt']\n"
     ]
    }
   ],
   "source": [
    "# Notice that if we run the same command twice, or if the directory already exists,\n",
    "# the contents of the directory will be printed to screen. \n",
    "pdbclean_io.check_project(projdir=PROJDIR, action='create', level='standard_MolID_bank')"
   ]
  },
  {
   "cell_type": "code",
   "execution_count": null,
   "id": "c6305b7b",
   "metadata": {},
   "outputs": [],
   "source": []
  }
 ],
 "metadata": {
  "kernelspec": {
   "display_name": "test_run",
   "language": "python",
   "name": "test_run"
  },
  "language_info": {
   "codemirror_mode": {
    "name": "ipython",
    "version": 3
   },
   "file_extension": ".py",
   "mimetype": "text/x-python",
   "name": "python",
   "nbconvert_exporter": "python",
   "pygments_lexer": "ipython3",
   "version": "3.10.4"
  }
 },
 "nbformat": 4,
 "nbformat_minor": 5
}
